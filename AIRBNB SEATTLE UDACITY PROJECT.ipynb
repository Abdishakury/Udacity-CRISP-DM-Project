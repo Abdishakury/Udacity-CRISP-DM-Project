{
 "cells": [
  {
   "cell_type": "markdown",
   "metadata": {},
   "source": [
    "# UDACITY - CRISP-DM PROJECT  \n",
    "\n",
    "## A closer look into the data of Seattle’s Airbnb market"
   ]
  },
  {
   "cell_type": "markdown",
   "metadata": {},
   "source": [
    "## 1. BUSINESS UNDERSTANDING\n",
    "\n",
    "The Seattle AirBnB Dataset includes information on AirBnB listings in Seattle, as well as calendar availability and user reviews for each listing. I am intending to try to answer the relevant business questions using this dataset. \n",
    "\n",
    "#### Pricing Trends\n",
    "1. What are the differences in pricing between the months of the year? \n",
    "2. How does pricing differ by neighbourhood, and which Seattle neighbourhoods are the most expensive? \n",
    "3. What effect does the kind of property in an area have on the price of the most costly neighbourhoods and the most prevalent property types? \n",
    "\n",
    "#### Sentiment Analysis of Reviews\n",
    "4. How can we classify reviews focused on sentiments?\n",
    "5. Can we correlate positive and negative attitudes from reviews to neighbourhoods to see which neighbourhoods have higher positive sentiments and which have higher negative sentiments? \n",
    "6. Is it possible to look into some of the worst reviews for additional insights?\n",
    "\n",
    "#### Price Prediction\n",
    "Can we forecast a listing's price?\n",
    "What aspects of the listing have the best correlation with price prediction? \n",
    "\n",
    "Pricing trend concerns can facilitate AirBnB better identify peak seasons and neighbourhoods in Seattle, allowing them to adjust inventory accordingly. It can also aid in the creation of more targeted marketing efforts. \n",
    "\n",
    "AirBnB can gain insight into brand affinity and evaluate consumer interest by analysing the sentiment of reviews.\n",
    "Furthermore, associating attitudes with localities can help to identify troubled areas. \n",
    "\n",
    "Pricing prediction can assist in determining which factors are most closely related to price.\n",
    "This is beneficial because these qualities will be high on the priority list for both AirBnB guests and AirBnB hosts. "
   ]
  },
  {
   "cell_type": "markdown",
   "metadata": {},
   "source": [
    "## 2. DATA UNDERSTANDING"
   ]
  },
  {
   "cell_type": "markdown",
   "metadata": {},
   "source": [
    " #### Section 2.1 Importing Libraries"
   ]
  },
  {
   "cell_type": "code",
   "execution_count": 1,
   "metadata": {},
   "outputs": [],
   "source": [
    "# Load the libraries\n",
    "import numpy as np\n",
    "import pandas as pd\n",
    "import matplotlib.pyplot as plt\n",
    "from IPython import display\n",
    "%matplotlib inline\n",
    "import seaborn as sns\n",
    "import nltk\n",
    "from nltk.sentiment.vader import SentimentIntensityAnalyzer\n",
    "from collections import Counter\n",
    "from sklearn.model_selection import train_test_split\n",
    "from sklearn.linear_model import LinearRegression\n",
    "from sklearn.metrics import r2_score"
   ]
  },
  {
   "cell_type": "markdown",
   "metadata": {},
   "source": [
    "### Let's look at the data\n",
    "\n",
    "As a first stage, I'll analyze the three files that make up the Seattle AirBnB dataset and dig into each one. "
   ]
  },
  {
   "cell_type": "markdown",
   "metadata": {},
   "source": [
    "   #### Section 2.2 Gathering Data"
   ]
  },
  {
   "cell_type": "code",
   "execution_count": 2,
   "metadata": {},
   "outputs": [
    {
     "data": {
      "text/html": [
       "<div>\n",
       "<style scoped>\n",
       "    .dataframe tbody tr th:only-of-type {\n",
       "        vertical-align: middle;\n",
       "    }\n",
       "\n",
       "    .dataframe tbody tr th {\n",
       "        vertical-align: top;\n",
       "    }\n",
       "\n",
       "    .dataframe thead th {\n",
       "        text-align: right;\n",
       "    }\n",
       "</style>\n",
       "<table border=\"1\" class=\"dataframe\">\n",
       "  <thead>\n",
       "    <tr style=\"text-align: right;\">\n",
       "      <th></th>\n",
       "      <th>id</th>\n",
       "      <th>listing_url</th>\n",
       "      <th>scrape_id</th>\n",
       "      <th>last_scraped</th>\n",
       "      <th>name</th>\n",
       "      <th>summary</th>\n",
       "      <th>space</th>\n",
       "      <th>description</th>\n",
       "      <th>experiences_offered</th>\n",
       "      <th>neighborhood_overview</th>\n",
       "      <th>...</th>\n",
       "      <th>review_scores_value</th>\n",
       "      <th>requires_license</th>\n",
       "      <th>license</th>\n",
       "      <th>jurisdiction_names</th>\n",
       "      <th>instant_bookable</th>\n",
       "      <th>cancellation_policy</th>\n",
       "      <th>require_guest_profile_picture</th>\n",
       "      <th>require_guest_phone_verification</th>\n",
       "      <th>calculated_host_listings_count</th>\n",
       "      <th>reviews_per_month</th>\n",
       "    </tr>\n",
       "  </thead>\n",
       "  <tbody>\n",
       "    <tr>\n",
       "      <th>0</th>\n",
       "      <td>241032</td>\n",
       "      <td>https://www.airbnb.com/rooms/241032</td>\n",
       "      <td>20160104002432</td>\n",
       "      <td>2016-01-04</td>\n",
       "      <td>Stylish Queen Anne Apartment</td>\n",
       "      <td>NaN</td>\n",
       "      <td>Make your self at home in this charming one-be...</td>\n",
       "      <td>Make your self at home in this charming one-be...</td>\n",
       "      <td>none</td>\n",
       "      <td>NaN</td>\n",
       "      <td>...</td>\n",
       "      <td>10.0</td>\n",
       "      <td>f</td>\n",
       "      <td>NaN</td>\n",
       "      <td>WASHINGTON</td>\n",
       "      <td>f</td>\n",
       "      <td>moderate</td>\n",
       "      <td>f</td>\n",
       "      <td>f</td>\n",
       "      <td>2</td>\n",
       "      <td>4.07</td>\n",
       "    </tr>\n",
       "    <tr>\n",
       "      <th>1</th>\n",
       "      <td>953595</td>\n",
       "      <td>https://www.airbnb.com/rooms/953595</td>\n",
       "      <td>20160104002432</td>\n",
       "      <td>2016-01-04</td>\n",
       "      <td>Bright &amp; Airy Queen Anne Apartment</td>\n",
       "      <td>Chemically sensitive? We've removed the irrita...</td>\n",
       "      <td>Beautiful, hypoallergenic apartment in an extr...</td>\n",
       "      <td>Chemically sensitive? We've removed the irrita...</td>\n",
       "      <td>none</td>\n",
       "      <td>Queen Anne is a wonderful, truly functional vi...</td>\n",
       "      <td>...</td>\n",
       "      <td>10.0</td>\n",
       "      <td>f</td>\n",
       "      <td>NaN</td>\n",
       "      <td>WASHINGTON</td>\n",
       "      <td>f</td>\n",
       "      <td>strict</td>\n",
       "      <td>t</td>\n",
       "      <td>t</td>\n",
       "      <td>6</td>\n",
       "      <td>1.48</td>\n",
       "    </tr>\n",
       "    <tr>\n",
       "      <th>2</th>\n",
       "      <td>3308979</td>\n",
       "      <td>https://www.airbnb.com/rooms/3308979</td>\n",
       "      <td>20160104002432</td>\n",
       "      <td>2016-01-04</td>\n",
       "      <td>New Modern House-Amazing water view</td>\n",
       "      <td>New modern house built in 2013.  Spectacular s...</td>\n",
       "      <td>Our house is modern, light and fresh with a wa...</td>\n",
       "      <td>New modern house built in 2013.  Spectacular s...</td>\n",
       "      <td>none</td>\n",
       "      <td>Upper Queen Anne is a charming neighborhood fu...</td>\n",
       "      <td>...</td>\n",
       "      <td>10.0</td>\n",
       "      <td>f</td>\n",
       "      <td>NaN</td>\n",
       "      <td>WASHINGTON</td>\n",
       "      <td>f</td>\n",
       "      <td>strict</td>\n",
       "      <td>f</td>\n",
       "      <td>f</td>\n",
       "      <td>2</td>\n",
       "      <td>1.15</td>\n",
       "    </tr>\n",
       "    <tr>\n",
       "      <th>3</th>\n",
       "      <td>7421966</td>\n",
       "      <td>https://www.airbnb.com/rooms/7421966</td>\n",
       "      <td>20160104002432</td>\n",
       "      <td>2016-01-04</td>\n",
       "      <td>Queen Anne Chateau</td>\n",
       "      <td>A charming apartment that sits atop Queen Anne...</td>\n",
       "      <td>NaN</td>\n",
       "      <td>A charming apartment that sits atop Queen Anne...</td>\n",
       "      <td>none</td>\n",
       "      <td>NaN</td>\n",
       "      <td>...</td>\n",
       "      <td>NaN</td>\n",
       "      <td>f</td>\n",
       "      <td>NaN</td>\n",
       "      <td>WASHINGTON</td>\n",
       "      <td>f</td>\n",
       "      <td>flexible</td>\n",
       "      <td>f</td>\n",
       "      <td>f</td>\n",
       "      <td>1</td>\n",
       "      <td>NaN</td>\n",
       "    </tr>\n",
       "    <tr>\n",
       "      <th>4</th>\n",
       "      <td>278830</td>\n",
       "      <td>https://www.airbnb.com/rooms/278830</td>\n",
       "      <td>20160104002432</td>\n",
       "      <td>2016-01-04</td>\n",
       "      <td>Charming craftsman 3 bdm house</td>\n",
       "      <td>Cozy family craftman house in beautiful neighb...</td>\n",
       "      <td>Cozy family craftman house in beautiful neighb...</td>\n",
       "      <td>Cozy family craftman house in beautiful neighb...</td>\n",
       "      <td>none</td>\n",
       "      <td>We are in the beautiful neighborhood of Queen ...</td>\n",
       "      <td>...</td>\n",
       "      <td>9.0</td>\n",
       "      <td>f</td>\n",
       "      <td>NaN</td>\n",
       "      <td>WASHINGTON</td>\n",
       "      <td>f</td>\n",
       "      <td>strict</td>\n",
       "      <td>f</td>\n",
       "      <td>f</td>\n",
       "      <td>1</td>\n",
       "      <td>0.89</td>\n",
       "    </tr>\n",
       "  </tbody>\n",
       "</table>\n",
       "<p>5 rows × 92 columns</p>\n",
       "</div>"
      ],
      "text/plain": [
       "        id                           listing_url       scrape_id last_scraped  \\\n",
       "0   241032   https://www.airbnb.com/rooms/241032  20160104002432   2016-01-04   \n",
       "1   953595   https://www.airbnb.com/rooms/953595  20160104002432   2016-01-04   \n",
       "2  3308979  https://www.airbnb.com/rooms/3308979  20160104002432   2016-01-04   \n",
       "3  7421966  https://www.airbnb.com/rooms/7421966  20160104002432   2016-01-04   \n",
       "4   278830   https://www.airbnb.com/rooms/278830  20160104002432   2016-01-04   \n",
       "\n",
       "                                  name  \\\n",
       "0         Stylish Queen Anne Apartment   \n",
       "1   Bright & Airy Queen Anne Apartment   \n",
       "2  New Modern House-Amazing water view   \n",
       "3                   Queen Anne Chateau   \n",
       "4       Charming craftsman 3 bdm house   \n",
       "\n",
       "                                             summary  \\\n",
       "0                                                NaN   \n",
       "1  Chemically sensitive? We've removed the irrita...   \n",
       "2  New modern house built in 2013.  Spectacular s...   \n",
       "3  A charming apartment that sits atop Queen Anne...   \n",
       "4  Cozy family craftman house in beautiful neighb...   \n",
       "\n",
       "                                               space  \\\n",
       "0  Make your self at home in this charming one-be...   \n",
       "1  Beautiful, hypoallergenic apartment in an extr...   \n",
       "2  Our house is modern, light and fresh with a wa...   \n",
       "3                                                NaN   \n",
       "4  Cozy family craftman house in beautiful neighb...   \n",
       "\n",
       "                                         description experiences_offered  \\\n",
       "0  Make your self at home in this charming one-be...                none   \n",
       "1  Chemically sensitive? We've removed the irrita...                none   \n",
       "2  New modern house built in 2013.  Spectacular s...                none   \n",
       "3  A charming apartment that sits atop Queen Anne...                none   \n",
       "4  Cozy family craftman house in beautiful neighb...                none   \n",
       "\n",
       "                               neighborhood_overview  ... review_scores_value  \\\n",
       "0                                                NaN  ...                10.0   \n",
       "1  Queen Anne is a wonderful, truly functional vi...  ...                10.0   \n",
       "2  Upper Queen Anne is a charming neighborhood fu...  ...                10.0   \n",
       "3                                                NaN  ...                 NaN   \n",
       "4  We are in the beautiful neighborhood of Queen ...  ...                 9.0   \n",
       "\n",
       "  requires_license license jurisdiction_names instant_bookable  \\\n",
       "0                f     NaN         WASHINGTON                f   \n",
       "1                f     NaN         WASHINGTON                f   \n",
       "2                f     NaN         WASHINGTON                f   \n",
       "3                f     NaN         WASHINGTON                f   \n",
       "4                f     NaN         WASHINGTON                f   \n",
       "\n",
       "  cancellation_policy  require_guest_profile_picture  \\\n",
       "0            moderate                              f   \n",
       "1              strict                              t   \n",
       "2              strict                              f   \n",
       "3            flexible                              f   \n",
       "4              strict                              f   \n",
       "\n",
       "  require_guest_phone_verification calculated_host_listings_count  \\\n",
       "0                                f                              2   \n",
       "1                                t                              6   \n",
       "2                                f                              2   \n",
       "3                                f                              1   \n",
       "4                                f                              1   \n",
       "\n",
       "  reviews_per_month  \n",
       "0              4.07  \n",
       "1              1.48  \n",
       "2              1.15  \n",
       "3               NaN  \n",
       "4              0.89  \n",
       "\n",
       "[5 rows x 92 columns]"
      ]
     },
     "execution_count": 2,
     "metadata": {},
     "output_type": "execute_result"
    }
   ],
   "source": [
    "# Read in the listings data set\n",
    "df_listings = pd.read_csv('listings.csv')\n",
    "df_listings.head()"
   ]
  },
  {
   "cell_type": "code",
   "execution_count": 3,
   "metadata": {},
   "outputs": [
    {
     "data": {
      "text/html": [
       "<div>\n",
       "<style scoped>\n",
       "    .dataframe tbody tr th:only-of-type {\n",
       "        vertical-align: middle;\n",
       "    }\n",
       "\n",
       "    .dataframe tbody tr th {\n",
       "        vertical-align: top;\n",
       "    }\n",
       "\n",
       "    .dataframe thead th {\n",
       "        text-align: right;\n",
       "    }\n",
       "</style>\n",
       "<table border=\"1\" class=\"dataframe\">\n",
       "  <thead>\n",
       "    <tr style=\"text-align: right;\">\n",
       "      <th></th>\n",
       "      <th>listing_id</th>\n",
       "      <th>id</th>\n",
       "      <th>date</th>\n",
       "      <th>reviewer_id</th>\n",
       "      <th>reviewer_name</th>\n",
       "      <th>comments</th>\n",
       "    </tr>\n",
       "  </thead>\n",
       "  <tbody>\n",
       "    <tr>\n",
       "      <th>0</th>\n",
       "      <td>7202016</td>\n",
       "      <td>38917982</td>\n",
       "      <td>2015-07-19</td>\n",
       "      <td>28943674</td>\n",
       "      <td>Bianca</td>\n",
       "      <td>Cute and cozy place. Perfect location to every...</td>\n",
       "    </tr>\n",
       "    <tr>\n",
       "      <th>1</th>\n",
       "      <td>7202016</td>\n",
       "      <td>39087409</td>\n",
       "      <td>2015-07-20</td>\n",
       "      <td>32440555</td>\n",
       "      <td>Frank</td>\n",
       "      <td>Kelly has a great room in a very central locat...</td>\n",
       "    </tr>\n",
       "    <tr>\n",
       "      <th>2</th>\n",
       "      <td>7202016</td>\n",
       "      <td>39820030</td>\n",
       "      <td>2015-07-26</td>\n",
       "      <td>37722850</td>\n",
       "      <td>Ian</td>\n",
       "      <td>Very spacious apartment, and in a great neighb...</td>\n",
       "    </tr>\n",
       "    <tr>\n",
       "      <th>3</th>\n",
       "      <td>7202016</td>\n",
       "      <td>40813543</td>\n",
       "      <td>2015-08-02</td>\n",
       "      <td>33671805</td>\n",
       "      <td>George</td>\n",
       "      <td>Close to Seattle Center and all it has to offe...</td>\n",
       "    </tr>\n",
       "    <tr>\n",
       "      <th>4</th>\n",
       "      <td>7202016</td>\n",
       "      <td>41986501</td>\n",
       "      <td>2015-08-10</td>\n",
       "      <td>34959538</td>\n",
       "      <td>Ming</td>\n",
       "      <td>Kelly was a great host and very accommodating ...</td>\n",
       "    </tr>\n",
       "  </tbody>\n",
       "</table>\n",
       "</div>"
      ],
      "text/plain": [
       "   listing_id        id        date  reviewer_id reviewer_name  \\\n",
       "0     7202016  38917982  2015-07-19     28943674        Bianca   \n",
       "1     7202016  39087409  2015-07-20     32440555         Frank   \n",
       "2     7202016  39820030  2015-07-26     37722850           Ian   \n",
       "3     7202016  40813543  2015-08-02     33671805        George   \n",
       "4     7202016  41986501  2015-08-10     34959538          Ming   \n",
       "\n",
       "                                            comments  \n",
       "0  Cute and cozy place. Perfect location to every...  \n",
       "1  Kelly has a great room in a very central locat...  \n",
       "2  Very spacious apartment, and in a great neighb...  \n",
       "3  Close to Seattle Center and all it has to offe...  \n",
       "4  Kelly was a great host and very accommodating ...  "
      ]
     },
     "execution_count": 3,
     "metadata": {},
     "output_type": "execute_result"
    }
   ],
   "source": [
    "# Read in the reviews data set\n",
    "df_reviews = pd.read_csv('reviews.csv')\n",
    "df_reviews.head()"
   ]
  },
  {
   "cell_type": "code",
   "execution_count": 4,
   "metadata": {},
   "outputs": [
    {
     "data": {
      "text/html": [
       "<div>\n",
       "<style scoped>\n",
       "    .dataframe tbody tr th:only-of-type {\n",
       "        vertical-align: middle;\n",
       "    }\n",
       "\n",
       "    .dataframe tbody tr th {\n",
       "        vertical-align: top;\n",
       "    }\n",
       "\n",
       "    .dataframe thead th {\n",
       "        text-align: right;\n",
       "    }\n",
       "</style>\n",
       "<table border=\"1\" class=\"dataframe\">\n",
       "  <thead>\n",
       "    <tr style=\"text-align: right;\">\n",
       "      <th></th>\n",
       "      <th>listing_id</th>\n",
       "      <th>date</th>\n",
       "      <th>available</th>\n",
       "      <th>price</th>\n",
       "    </tr>\n",
       "  </thead>\n",
       "  <tbody>\n",
       "    <tr>\n",
       "      <th>0</th>\n",
       "      <td>241032</td>\n",
       "      <td>2016-01-04</td>\n",
       "      <td>t</td>\n",
       "      <td>$85.00</td>\n",
       "    </tr>\n",
       "    <tr>\n",
       "      <th>1</th>\n",
       "      <td>241032</td>\n",
       "      <td>2016-01-05</td>\n",
       "      <td>t</td>\n",
       "      <td>$85.00</td>\n",
       "    </tr>\n",
       "    <tr>\n",
       "      <th>2</th>\n",
       "      <td>241032</td>\n",
       "      <td>2016-01-06</td>\n",
       "      <td>f</td>\n",
       "      <td>NaN</td>\n",
       "    </tr>\n",
       "    <tr>\n",
       "      <th>3</th>\n",
       "      <td>241032</td>\n",
       "      <td>2016-01-07</td>\n",
       "      <td>f</td>\n",
       "      <td>NaN</td>\n",
       "    </tr>\n",
       "    <tr>\n",
       "      <th>4</th>\n",
       "      <td>241032</td>\n",
       "      <td>2016-01-08</td>\n",
       "      <td>f</td>\n",
       "      <td>NaN</td>\n",
       "    </tr>\n",
       "  </tbody>\n",
       "</table>\n",
       "</div>"
      ],
      "text/plain": [
       "   listing_id        date available   price\n",
       "0      241032  2016-01-04         t  $85.00\n",
       "1      241032  2016-01-05         t  $85.00\n",
       "2      241032  2016-01-06         f     NaN\n",
       "3      241032  2016-01-07         f     NaN\n",
       "4      241032  2016-01-08         f     NaN"
      ]
     },
     "execution_count": 4,
     "metadata": {},
     "output_type": "execute_result"
    }
   ],
   "source": [
    "# Read in the calendar data set\n",
    "df_calendar = pd.read_csv('calendar.csv')\n",
    "df_calendar.head()"
   ]
  },
  {
   "cell_type": "markdown",
   "metadata": {},
   "source": [
    "#### Section 2.3 Understanding Listing Data Set"
   ]
  },
  {
   "cell_type": "markdown",
   "metadata": {},
   "source": [
    "### CALENDAR Data Set\n",
    "\n",
    "Let's start with the Calendar data set. We'll look at a few items, including: \n",
    "1. The dataset's row and column counts \n",
    "2. Missing values columns and columns with no missing values \n",
    "3. Describe the dataset to learn more about each column's characteristics and structure of the dataset. "
   ]
  },
  {
   "cell_type": "code",
   "execution_count": 5,
   "metadata": {},
   "outputs": [
    {
     "name": "stdout",
     "output_type": "stream",
     "text": [
      "Number of rows and columns:  (1393570, 4)\n",
      "listing_id         0\n",
      "date               0\n",
      "available          0\n",
      "price         459028\n",
      "dtype: int64\n",
      "          listing_id        date available    price\n",
      "count   1.393570e+06     1393570   1393570   934542\n",
      "unique           NaN         365         2      669\n",
      "top              NaN  2016-05-22         t  $150.00\n",
      "freq             NaN        3818    934542    36646\n",
      "mean    5.550111e+06         NaN       NaN      NaN\n",
      "std     2.962274e+06         NaN       NaN      NaN\n",
      "min     3.335000e+03         NaN       NaN      NaN\n",
      "25%     3.258213e+06         NaN       NaN      NaN\n",
      "50%     6.118244e+06         NaN       NaN      NaN\n",
      "75%     8.035212e+06         NaN       NaN      NaN\n",
      "max     1.034016e+07         NaN       NaN      NaN\n"
     ]
    }
   ],
   "source": [
    "# Print rows and columns in calendar data set\n",
    "print(\"Number of rows and columns: \", df_calendar.shape)\n",
    "# Assess null values\n",
    "print(df_calendar.isnull().sum())\n",
    "# Describe\n",
    "print(df_calendar.describe(include='all'))"
   ]
  },
  {
   "cell_type": "markdown",
   "metadata": {},
   "source": [
    "#### FINDINGS\n",
    "\n",
    "Based on the the above, it appears that few data preparation will be considered necessary in using this dataset.\n",
    "Solely missing values are in the price column, which could simply be due to the listing being unavailable on those days. "
   ]
  },
  {
   "cell_type": "markdown",
   "metadata": {},
   "source": [
    "### LISTINGS Data Set\n",
    "\n",
    "Next, Let's investigate at the Listings dataset. We'll take a glance at some of those issues: \n",
    "1. The dataset's row and column counts \n",
    "2. Missing values columns and columns with no missing values \n",
    "3. Describe the dataset to learn more about each column's attributes and structure of the dataset\n",
    "4. Investigate some of the categorical attributes. "
   ]
  },
  {
   "cell_type": "code",
   "execution_count": 6,
   "metadata": {},
   "outputs": [
    {
     "name": "stdout",
     "output_type": "stream",
     "text": [
      "Number of rows and columns:  (3818, 92)\n",
      "id                                     0\n",
      "listing_url                            0\n",
      "scrape_id                              0\n",
      "last_scraped                           0\n",
      "name                                   0\n",
      "summary                              177\n",
      "space                                569\n",
      "description                            0\n",
      "experiences_offered                    0\n",
      "neighborhood_overview               1032\n",
      "notes                               1606\n",
      "transit                              934\n",
      "thumbnail_url                        320\n",
      "medium_url                           320\n",
      "picture_url                            0\n",
      "xl_picture_url                       320\n",
      "host_id                                0\n",
      "host_url                               0\n",
      "host_name                              2\n",
      "host_since                             2\n",
      "host_location                          8\n",
      "host_about                           859\n",
      "host_response_time                   523\n",
      "host_response_rate                   523\n",
      "host_acceptance_rate                 773\n",
      "host_is_superhost                      2\n",
      "host_thumbnail_url                     2\n",
      "host_picture_url                       2\n",
      "host_neighbourhood                   300\n",
      "host_listings_count                    2\n",
      "host_total_listings_count              2\n",
      "host_verifications                     0\n",
      "host_has_profile_pic                   2\n",
      "host_identity_verified                 2\n",
      "street                                 0\n",
      "neighbourhood                        416\n",
      "neighbourhood_cleansed                 0\n",
      "neighbourhood_group_cleansed           0\n",
      "city                                   0\n",
      "state                                  0\n",
      "zipcode                                7\n",
      "market                                 0\n",
      "smart_location                         0\n",
      "country_code                           0\n",
      "country                                0\n",
      "latitude                               0\n",
      "longitude                              0\n",
      "is_location_exact                      0\n",
      "property_type                          1\n",
      "room_type                              0\n",
      "accommodates                           0\n",
      "bathrooms                             16\n",
      "bedrooms                               6\n",
      "beds                                   1\n",
      "bed_type                               0\n",
      "amenities                              0\n",
      "square_feet                         3721\n",
      "price                                  0\n",
      "weekly_price                        1809\n",
      "monthly_price                       2301\n",
      "security_deposit                    1952\n",
      "cleaning_fee                        1030\n",
      "guests_included                        0\n",
      "extra_people                           0\n",
      "minimum_nights                         0\n",
      "maximum_nights                         0\n",
      "calendar_updated                       0\n",
      "has_availability                       0\n",
      "availability_30                        0\n",
      "availability_60                        0\n",
      "availability_90                        0\n",
      "availability_365                       0\n",
      "calendar_last_scraped                  0\n",
      "number_of_reviews                      0\n",
      "first_review                         627\n",
      "last_review                          627\n",
      "review_scores_rating                 647\n",
      "review_scores_accuracy               658\n",
      "review_scores_cleanliness            653\n",
      "review_scores_checkin                658\n",
      "review_scores_communication          651\n",
      "review_scores_location               655\n",
      "review_scores_value                  656\n",
      "requires_license                       0\n",
      "license                             3818\n",
      "jurisdiction_names                     0\n",
      "instant_bookable                       0\n",
      "cancellation_policy                    0\n",
      "require_guest_profile_picture          0\n",
      "require_guest_phone_verification       0\n",
      "calculated_host_listings_count         0\n",
      "reviews_per_month                    627\n",
      "dtype: int64\n"
     ]
    }
   ],
   "source": [
    "# Print rows and columns in calendar data set\n",
    "print(\"Number of rows and columns: \", df_listings.shape)\n",
    "# Assess null values\n",
    "pd.set_option('display.max_rows',None)\n",
    "print(df_listings.isnull().sum())"
   ]
  },
  {
   "cell_type": "code",
   "execution_count": 7,
   "metadata": {},
   "outputs": [
    {
     "data": {
      "text/html": [
       "<div>\n",
       "<style scoped>\n",
       "    .dataframe tbody tr th:only-of-type {\n",
       "        vertical-align: middle;\n",
       "    }\n",
       "\n",
       "    .dataframe tbody tr th {\n",
       "        vertical-align: top;\n",
       "    }\n",
       "\n",
       "    .dataframe thead th {\n",
       "        text-align: right;\n",
       "    }\n",
       "</style>\n",
       "<table border=\"1\" class=\"dataframe\">\n",
       "  <thead>\n",
       "    <tr style=\"text-align: right;\">\n",
       "      <th></th>\n",
       "      <th>id</th>\n",
       "      <th>scrape_id</th>\n",
       "      <th>host_id</th>\n",
       "      <th>host_listings_count</th>\n",
       "      <th>host_total_listings_count</th>\n",
       "      <th>latitude</th>\n",
       "      <th>longitude</th>\n",
       "      <th>accommodates</th>\n",
       "      <th>bathrooms</th>\n",
       "      <th>bedrooms</th>\n",
       "      <th>...</th>\n",
       "      <th>review_scores_rating</th>\n",
       "      <th>review_scores_accuracy</th>\n",
       "      <th>review_scores_cleanliness</th>\n",
       "      <th>review_scores_checkin</th>\n",
       "      <th>review_scores_communication</th>\n",
       "      <th>review_scores_location</th>\n",
       "      <th>review_scores_value</th>\n",
       "      <th>license</th>\n",
       "      <th>calculated_host_listings_count</th>\n",
       "      <th>reviews_per_month</th>\n",
       "    </tr>\n",
       "  </thead>\n",
       "  <tbody>\n",
       "    <tr>\n",
       "      <th>count</th>\n",
       "      <td>3.818000e+03</td>\n",
       "      <td>3.818000e+03</td>\n",
       "      <td>3.818000e+03</td>\n",
       "      <td>3816.000000</td>\n",
       "      <td>3816.000000</td>\n",
       "      <td>3818.000000</td>\n",
       "      <td>3818.000000</td>\n",
       "      <td>3818.000000</td>\n",
       "      <td>3802.000000</td>\n",
       "      <td>3812.000000</td>\n",
       "      <td>...</td>\n",
       "      <td>3171.000000</td>\n",
       "      <td>3160.000000</td>\n",
       "      <td>3165.000000</td>\n",
       "      <td>3160.000000</td>\n",
       "      <td>3167.000000</td>\n",
       "      <td>3163.000000</td>\n",
       "      <td>3162.000000</td>\n",
       "      <td>0.0</td>\n",
       "      <td>3818.000000</td>\n",
       "      <td>3191.000000</td>\n",
       "    </tr>\n",
       "    <tr>\n",
       "      <th>mean</th>\n",
       "      <td>5.550111e+06</td>\n",
       "      <td>2.016010e+13</td>\n",
       "      <td>1.578556e+07</td>\n",
       "      <td>7.157757</td>\n",
       "      <td>7.157757</td>\n",
       "      <td>47.628961</td>\n",
       "      <td>-122.333103</td>\n",
       "      <td>3.349398</td>\n",
       "      <td>1.259469</td>\n",
       "      <td>1.307712</td>\n",
       "      <td>...</td>\n",
       "      <td>94.539262</td>\n",
       "      <td>9.636392</td>\n",
       "      <td>9.556398</td>\n",
       "      <td>9.786709</td>\n",
       "      <td>9.809599</td>\n",
       "      <td>9.608916</td>\n",
       "      <td>9.452245</td>\n",
       "      <td>NaN</td>\n",
       "      <td>2.946307</td>\n",
       "      <td>2.078919</td>\n",
       "    </tr>\n",
       "    <tr>\n",
       "      <th>std</th>\n",
       "      <td>2.962660e+06</td>\n",
       "      <td>0.000000e+00</td>\n",
       "      <td>1.458382e+07</td>\n",
       "      <td>28.628149</td>\n",
       "      <td>28.628149</td>\n",
       "      <td>0.043052</td>\n",
       "      <td>0.031745</td>\n",
       "      <td>1.977599</td>\n",
       "      <td>0.590369</td>\n",
       "      <td>0.883395</td>\n",
       "      <td>...</td>\n",
       "      <td>6.606083</td>\n",
       "      <td>0.698031</td>\n",
       "      <td>0.797274</td>\n",
       "      <td>0.595499</td>\n",
       "      <td>0.568211</td>\n",
       "      <td>0.629053</td>\n",
       "      <td>0.750259</td>\n",
       "      <td>NaN</td>\n",
       "      <td>5.893029</td>\n",
       "      <td>1.822348</td>\n",
       "    </tr>\n",
       "    <tr>\n",
       "      <th>min</th>\n",
       "      <td>3.335000e+03</td>\n",
       "      <td>2.016010e+13</td>\n",
       "      <td>4.193000e+03</td>\n",
       "      <td>1.000000</td>\n",
       "      <td>1.000000</td>\n",
       "      <td>47.505088</td>\n",
       "      <td>-122.417219</td>\n",
       "      <td>1.000000</td>\n",
       "      <td>0.000000</td>\n",
       "      <td>0.000000</td>\n",
       "      <td>...</td>\n",
       "      <td>20.000000</td>\n",
       "      <td>2.000000</td>\n",
       "      <td>3.000000</td>\n",
       "      <td>2.000000</td>\n",
       "      <td>2.000000</td>\n",
       "      <td>4.000000</td>\n",
       "      <td>2.000000</td>\n",
       "      <td>NaN</td>\n",
       "      <td>1.000000</td>\n",
       "      <td>0.020000</td>\n",
       "    </tr>\n",
       "    <tr>\n",
       "      <th>25%</th>\n",
       "      <td>3.258256e+06</td>\n",
       "      <td>2.016010e+13</td>\n",
       "      <td>3.275204e+06</td>\n",
       "      <td>1.000000</td>\n",
       "      <td>1.000000</td>\n",
       "      <td>47.609418</td>\n",
       "      <td>-122.354320</td>\n",
       "      <td>2.000000</td>\n",
       "      <td>1.000000</td>\n",
       "      <td>1.000000</td>\n",
       "      <td>...</td>\n",
       "      <td>93.000000</td>\n",
       "      <td>9.000000</td>\n",
       "      <td>9.000000</td>\n",
       "      <td>10.000000</td>\n",
       "      <td>10.000000</td>\n",
       "      <td>9.000000</td>\n",
       "      <td>9.000000</td>\n",
       "      <td>NaN</td>\n",
       "      <td>1.000000</td>\n",
       "      <td>0.695000</td>\n",
       "    </tr>\n",
       "    <tr>\n",
       "      <th>50%</th>\n",
       "      <td>6.118244e+06</td>\n",
       "      <td>2.016010e+13</td>\n",
       "      <td>1.055814e+07</td>\n",
       "      <td>1.000000</td>\n",
       "      <td>1.000000</td>\n",
       "      <td>47.623601</td>\n",
       "      <td>-122.328874</td>\n",
       "      <td>3.000000</td>\n",
       "      <td>1.000000</td>\n",
       "      <td>1.000000</td>\n",
       "      <td>...</td>\n",
       "      <td>96.000000</td>\n",
       "      <td>10.000000</td>\n",
       "      <td>10.000000</td>\n",
       "      <td>10.000000</td>\n",
       "      <td>10.000000</td>\n",
       "      <td>10.000000</td>\n",
       "      <td>10.000000</td>\n",
       "      <td>NaN</td>\n",
       "      <td>1.000000</td>\n",
       "      <td>1.540000</td>\n",
       "    </tr>\n",
       "    <tr>\n",
       "      <th>75%</th>\n",
       "      <td>8.035127e+06</td>\n",
       "      <td>2.016010e+13</td>\n",
       "      <td>2.590309e+07</td>\n",
       "      <td>3.000000</td>\n",
       "      <td>3.000000</td>\n",
       "      <td>47.662694</td>\n",
       "      <td>-122.310800</td>\n",
       "      <td>4.000000</td>\n",
       "      <td>1.000000</td>\n",
       "      <td>2.000000</td>\n",
       "      <td>...</td>\n",
       "      <td>99.000000</td>\n",
       "      <td>10.000000</td>\n",
       "      <td>10.000000</td>\n",
       "      <td>10.000000</td>\n",
       "      <td>10.000000</td>\n",
       "      <td>10.000000</td>\n",
       "      <td>10.000000</td>\n",
       "      <td>NaN</td>\n",
       "      <td>2.000000</td>\n",
       "      <td>3.000000</td>\n",
       "    </tr>\n",
       "    <tr>\n",
       "      <th>max</th>\n",
       "      <td>1.034016e+07</td>\n",
       "      <td>2.016010e+13</td>\n",
       "      <td>5.320861e+07</td>\n",
       "      <td>502.000000</td>\n",
       "      <td>502.000000</td>\n",
       "      <td>47.733358</td>\n",
       "      <td>-122.240607</td>\n",
       "      <td>16.000000</td>\n",
       "      <td>8.000000</td>\n",
       "      <td>7.000000</td>\n",
       "      <td>...</td>\n",
       "      <td>100.000000</td>\n",
       "      <td>10.000000</td>\n",
       "      <td>10.000000</td>\n",
       "      <td>10.000000</td>\n",
       "      <td>10.000000</td>\n",
       "      <td>10.000000</td>\n",
       "      <td>10.000000</td>\n",
       "      <td>NaN</td>\n",
       "      <td>37.000000</td>\n",
       "      <td>12.150000</td>\n",
       "    </tr>\n",
       "  </tbody>\n",
       "</table>\n",
       "<p>8 rows × 30 columns</p>\n",
       "</div>"
      ],
      "text/plain": [
       "                 id     scrape_id       host_id  host_listings_count  \\\n",
       "count  3.818000e+03  3.818000e+03  3.818000e+03          3816.000000   \n",
       "mean   5.550111e+06  2.016010e+13  1.578556e+07             7.157757   \n",
       "std    2.962660e+06  0.000000e+00  1.458382e+07            28.628149   \n",
       "min    3.335000e+03  2.016010e+13  4.193000e+03             1.000000   \n",
       "25%    3.258256e+06  2.016010e+13  3.275204e+06             1.000000   \n",
       "50%    6.118244e+06  2.016010e+13  1.055814e+07             1.000000   \n",
       "75%    8.035127e+06  2.016010e+13  2.590309e+07             3.000000   \n",
       "max    1.034016e+07  2.016010e+13  5.320861e+07           502.000000   \n",
       "\n",
       "       host_total_listings_count     latitude    longitude  accommodates  \\\n",
       "count                3816.000000  3818.000000  3818.000000   3818.000000   \n",
       "mean                    7.157757    47.628961  -122.333103      3.349398   \n",
       "std                    28.628149     0.043052     0.031745      1.977599   \n",
       "min                     1.000000    47.505088  -122.417219      1.000000   \n",
       "25%                     1.000000    47.609418  -122.354320      2.000000   \n",
       "50%                     1.000000    47.623601  -122.328874      3.000000   \n",
       "75%                     3.000000    47.662694  -122.310800      4.000000   \n",
       "max                   502.000000    47.733358  -122.240607     16.000000   \n",
       "\n",
       "         bathrooms     bedrooms  ...  review_scores_rating  \\\n",
       "count  3802.000000  3812.000000  ...           3171.000000   \n",
       "mean      1.259469     1.307712  ...             94.539262   \n",
       "std       0.590369     0.883395  ...              6.606083   \n",
       "min       0.000000     0.000000  ...             20.000000   \n",
       "25%       1.000000     1.000000  ...             93.000000   \n",
       "50%       1.000000     1.000000  ...             96.000000   \n",
       "75%       1.000000     2.000000  ...             99.000000   \n",
       "max       8.000000     7.000000  ...            100.000000   \n",
       "\n",
       "       review_scores_accuracy  review_scores_cleanliness  \\\n",
       "count             3160.000000                3165.000000   \n",
       "mean                 9.636392                   9.556398   \n",
       "std                  0.698031                   0.797274   \n",
       "min                  2.000000                   3.000000   \n",
       "25%                  9.000000                   9.000000   \n",
       "50%                 10.000000                  10.000000   \n",
       "75%                 10.000000                  10.000000   \n",
       "max                 10.000000                  10.000000   \n",
       "\n",
       "       review_scores_checkin  review_scores_communication  \\\n",
       "count            3160.000000                  3167.000000   \n",
       "mean                9.786709                     9.809599   \n",
       "std                 0.595499                     0.568211   \n",
       "min                 2.000000                     2.000000   \n",
       "25%                10.000000                    10.000000   \n",
       "50%                10.000000                    10.000000   \n",
       "75%                10.000000                    10.000000   \n",
       "max                10.000000                    10.000000   \n",
       "\n",
       "       review_scores_location  review_scores_value  license  \\\n",
       "count             3163.000000          3162.000000      0.0   \n",
       "mean                 9.608916             9.452245      NaN   \n",
       "std                  0.629053             0.750259      NaN   \n",
       "min                  4.000000             2.000000      NaN   \n",
       "25%                  9.000000             9.000000      NaN   \n",
       "50%                 10.000000            10.000000      NaN   \n",
       "75%                 10.000000            10.000000      NaN   \n",
       "max                 10.000000            10.000000      NaN   \n",
       "\n",
       "       calculated_host_listings_count  reviews_per_month  \n",
       "count                     3818.000000        3191.000000  \n",
       "mean                         2.946307           2.078919  \n",
       "std                          5.893029           1.822348  \n",
       "min                          1.000000           0.020000  \n",
       "25%                          1.000000           0.695000  \n",
       "50%                          1.000000           1.540000  \n",
       "75%                          2.000000           3.000000  \n",
       "max                         37.000000          12.150000  \n",
       "\n",
       "[8 rows x 30 columns]"
      ]
     },
     "execution_count": 7,
     "metadata": {},
     "output_type": "execute_result"
    }
   ],
   "source": [
    "# Describe\n",
    "df_listings.describe()"
   ]
  },
  {
   "cell_type": "code",
   "execution_count": 8,
   "metadata": {},
   "outputs": [
    {
     "name": "stdout",
     "output_type": "stream",
     "text": [
      "Value counts for experiences_offered:  none    3818\n",
      "Name: experiences_offered, dtype: int64\n"
     ]
    }
   ],
   "source": [
    "# Investigate Categorical attributes - experiences_offered\n",
    "print('Value counts for experiences_offered: ', df_listings['experiences_offered'].value_counts())"
   ]
  },
  {
   "cell_type": "code",
   "execution_count": 9,
   "metadata": {},
   "outputs": [
    {
     "name": "stdout",
     "output_type": "stream",
     "text": [
      "Value counts for host_location:  Seattle, Washington, United States                                    3259\n",
      "US                                                                     246\n",
      "Spokane, Washington, United States                                      41\n",
      "Kent, Washington, United States                                         34\n",
      "Los Angeles, California, United States                                  13\n",
      "Bellevue, Washington, United States                                     12\n",
      "San Francisco, California, United States                                11\n",
      "Mercer Island, Washington, United States                                10\n",
      "Kirkland, Washington, United States                                      8\n",
      "New York, New York, United States                                        6\n",
      "Seattle                                                                  5\n",
      "Sammamish, Washington, United States                                     5\n",
      "Vashon, Washington, United States                                        5\n",
      "Shoreline, Washington, United States                                     5\n",
      "Seattle, Washington                                                      4\n",
      "San Diego, California, United States                                     4\n",
      "Vancouver, Washington, United States                                     4\n",
      "Tucson, Arizona, United States                                           4\n",
      "Portland, Oregon, United States                                          4\n",
      "Issaquah, Washington, United States                                      3\n",
      "Seattle/San Fransisco/Taipei                                             3\n",
      "Blaine, Washington, United States                                        3\n",
      "Vancouver, British Columbia, Canada                                      3\n",
      "Palm Springs, California, United States                                  3\n",
      "Washington State, United States                                          3\n",
      "Montezuma,Costas Rica  and Seattle Wasington, United States              3\n",
      "San Francisco, California                                                3\n",
      "Snoqualmie, Washington, United States                                    2\n",
      "Renton, Washington, United States                                        2\n",
      "Seattle, WA                                                              2\n",
      "Berkeley, California, United States                                      2\n",
      "Palo Alto, California, United States                                     2\n",
      "Tacoma, Washington, United States                                        2\n",
      "DZ                                                                       2\n",
      "Seattle WA                                                               2\n",
      "We live in the upper portion of the home                                 2\n",
      "United States                                                            2\n",
      "Seattle and Bellingham, Washington, United States                        2\n",
      "West Hollywood, California, United States                                2\n",
      "Boston, Massachusetts, United States                                     2\n",
      "USA (Seattle)/Germany (Lake Constance)                                   1\n",
      "Grand Rapids, Michigan, United States                                    1\n",
      "Edmonds, Washington, United States                                       1\n",
      "Gosnold, Massachusetts, United States                                    1\n",
      "Next door to cottage                                                     1\n",
      "Seattle WA and Portland OR                                               1\n",
      "Redmond, Washington, United States                                       1\n",
      "Bloomington, Indiana, United States                                      1\n",
      "Seattle, WA, United States                                               1\n",
      "Ballard, Seattle, WA                                                     1\n",
      "Houston, Texas, United States                                            1\n",
      "Accra, Greater Accra, Ghana                                              1\n",
      "Cambridge, Massachusetts, United States                                  1\n",
      "Mount Vernon, Washington, United States                                  1\n",
      "Las Vegas, Nevada, United States                                         1\n",
      "Castle Rock, Washington, United States                                   1\n",
      "Hilo, Hawaii, United States                                              1\n",
      "Chelan, Washington, United States                                        1\n",
      "Prescott Valley, Arizona, United States                                  1\n",
      "All over the Planet. I'm having a Maui Moment.                           1\n",
      "Long Beach, California, United States                                    1\n",
      "Quilcene, Washington, United States                                      1\n",
      "Snohomish, Washington, United States                                     1\n",
      "Oakland, California, United States                                       1\n",
      "Alamosa, Colorado, United States                                         1\n",
      "Sydney, New South Wales, Australia                                       1\n",
      "Luxembourg                                                               1\n",
      "Lafayette, California, United States                                     1\n",
      "Greenwood Village, Colorado, United States                               1\n",
      "Port Orchard, Washington, United States                                  1\n",
      "Austin, Texas, United States                                             1\n",
      "New Orleans, Louisiana, United States                                    1\n",
      "Newcastle, Washington, United States                                     1\n",
      "Arlington, Massachusetts, United States                                  1\n",
      "Burien, Washington, United States                                        1\n",
      "Ault, Colorado, United States                                            1\n",
      "FR                                                                       1\n",
      "Rome, Lazio, Italy                                                       1\n",
      "Surprise, Arizona, United States                                         1\n",
      "Kenilworth, Illinois, United States                                      1\n",
      "Vashon Island, Seattle, WA                                               1\n",
      "I live between Princeville Kauai and Seattle Wa, homes both places       1\n",
      "Breckenridge, Colorado, United States                                    1\n",
      "We live in the house upstairs from the rental flat                       1\n",
      "Gig Harbor, Washington, United States                                    1\n",
      "Massachusetts, United States                                             1\n",
      "Salt Lake City, Utah, United States                                      1\n",
      "White Pine, Tennessee, United States                                     1\n",
      "Beijing, Beijing, China                                                  1\n",
      "West New York, New Jersey, United States                                 1\n",
      "Camano Island                                                            1\n",
      "West Seattle, Washington                                                 1\n",
      "San Jose, California, United States                                      1\n",
      "Phoenix, Arizona, United States                                          1\n",
      "Woodinville, Washington, United States                                   1\n",
      "Port Townsend, Washington, United States                                 1\n",
      "Bellingham, Washington, United States                                    1\n",
      "Addison, Texas, United States                                            1\n",
      "Greenbank, Washington, United States                                     1\n",
      "Ciudad Obregón, Sonora, Mexico                                           1\n",
      "Kenmore, Washington, United States                                       1\n",
      "Santa Monica, California, United States                                  1\n",
      "SG                                                                       1\n",
      "Calgary, Alberta, Canada                                                 1\n",
      "Dallas, Texas, United States                                             1\n",
      "Minneapolis, Minnesota, United States                                    1\n",
      "Bothell, Washington, United States                                       1\n",
      "Santa Fe, New Mexico, United States                                      1\n",
      "Washington State                                                         1\n",
      "Lowell, Massachusetts, United States                                     1\n",
      "California, Maryland, United States                                      1\n",
      "Lincoln, Vermont, United States                                          1\n",
      "Lynnwood, Washington, United States                                      1\n",
      "Oregon                                                                   1\n",
      "Toronto, Ontario, Canada                                                 1\n",
      "Seattle, Washington and London, England                                  1\n",
      "Winston-Salem, North Carolina, United States                             1\n",
      "Grosse Pointe Farms, Michigan, United States                             1\n",
      "Bangkok, Thailand                                                        1\n",
      "California                                                               1\n",
      "Name: host_location, dtype: int64\n"
     ]
    }
   ],
   "source": [
    "# Investigate Categorical attributes - host_location\n",
    "print('Value counts for host_location: ', df_listings['host_location'].value_counts())"
   ]
  },
  {
   "cell_type": "markdown",
   "metadata": {},
   "source": [
    "#### FINDINGS\n",
    "\n",
    "For all rows, the experiences presented are None.\n",
    "If we're going to use the host location field for analysis, it could use some standardization. For instance:\n",
    "\"Seattle, Washington, United States,\" \"Seattle,\" and \"Seattle, Washington\" are all identical. "
   ]
  },
  {
   "cell_type": "code",
   "execution_count": 10,
   "metadata": {},
   "outputs": [
    {
     "data": {
      "image/png": "[encoded data removed]",
      "text/plain": [
       "<Figure size 432x288 with 1 Axes>"
      ]
     },
     "metadata": {
      "needs_background": "light"
     },
     "output_type": "display_data"
    }
   ],
   "source": [
    "# Investigate Categorical Feature - host_response_time\n",
    "host_response_vals = df_listings['host_response_time'].value_counts()\n",
    "(host_response_vals/df_listings.shape[0]).plot(kind='bar', color = 'green');\n",
    "plt.title(\"Host Response Times\");"
   ]
  },
  {
   "cell_type": "markdown",
   "metadata": {},
   "source": [
    "#### FINDINGS\n",
    "\n",
    "It looks like a good percentage of hosts respond within an hour and it's a downward trend from there."
   ]
  },
  {
   "cell_type": "code",
   "execution_count": 11,
   "metadata": {},
   "outputs": [
    {
     "data": {
      "image/png": "[encoded data removed]",
      "text/plain": [
       "<Figure size 432x288 with 1 Axes>"
      ]
     },
     "metadata": {
      "needs_background": "light"
     },
     "output_type": "display_data"
    }
   ],
   "source": [
    "# Investigate Categorical Feature - neighborhood_group_cleansed\n",
    "neigh_vals = df_listings['neighbourhood_group_cleansed'].value_counts()\n",
    "(neigh_vals/df_listings.shape[0]).plot(kind='bar', color = 'green');\n",
    "plt.title(\"Neighbourhood Group Cleansed\");"
   ]
  },
  {
   "cell_type": "markdown",
   "metadata": {},
   "source": [
    "#### FINDINGS\n",
    "\n",
    "The chart above is tilted to the left.\n",
    "Apart from other neighbourhoods, we can notice that some of them have a large number of accommodations.\n",
    "There are two elements that have an impact on these figures.\n",
    "\n",
    "\n",
    "1. The population of Capital Hill and Downtown is significantly higher than that of Seaward Park and Interbay.\n",
    "As a result, we can conclude that accomodations are plentiful in densely populated areas, and that if there are more people, more accomodation can be provided.\n",
    "\n",
    "2. Tourist visit- Using my Google skills, I can state that these are the most visited tourist attractions in Seattle. "
   ]
  },
  {
   "cell_type": "code",
   "execution_count": 12,
   "metadata": {
    "scrolled": true
   },
   "outputs": [
    {
     "data": {
      "image/png": "[encoded data removed]",
      "text/plain": [
       "<Figure size 432x288 with 1 Axes>"
      ]
     },
     "metadata": {
      "needs_background": "light"
     },
     "output_type": "display_data"
    }
   ],
   "source": [
    "# Investigate Categorical Feature - property_type\n",
    "property_type = df_listings['property_type'].value_counts()\n",
    "(property_type/df_listings.shape[0]).plot(kind='bar', color = 'green');\n",
    "plt.title(\"Property Type\");"
   ]
  },
  {
   "cell_type": "markdown",
   "metadata": {},
   "source": [
    "#### FINDINGS\n",
    "\n",
    "Based on the chart above, We can simply see which properties are more expensive. \n",
    "\n",
    "It's vital to make sure that apartments and houses account for the majority of the listings data.\n",
    "If any of our analyses need it, we can concentrate on these. "
   ]
  },
  {
   "cell_type": "markdown",
   "metadata": {},
   "source": [
    "### CALENDAR Data Set\n",
    "\n",
    "#### Section 2.4 Understanding the Calendar Data Set\n",
    "\n",
    "Let's look at the CALENDAR data set next. We'll take a look at a few items: :\n",
    "1. The dataset's row and column counts \n",
    "2. Missing values columns and columns with no missing values\n",
    "3. Describe the dataset to learn more about each column's attributes and structure of the dataset"
   ]
  },
  {
   "cell_type": "code",
   "execution_count": 13,
   "metadata": {},
   "outputs": [
    {
     "name": "stdout",
     "output_type": "stream",
     "text": [
      "number of rows and columns-  (1393570, 4)\n",
      "number of null values:\n",
      " listing_id         0\n",
      "date               0\n",
      "available          0\n",
      "price         459028\n",
      "dtype: int64\n"
     ]
    },
    {
     "data": {
      "text/html": [
       "<div>\n",
       "<style scoped>\n",
       "    .dataframe tbody tr th:only-of-type {\n",
       "        vertical-align: middle;\n",
       "    }\n",
       "\n",
       "    .dataframe tbody tr th {\n",
       "        vertical-align: top;\n",
       "    }\n",
       "\n",
       "    .dataframe thead th {\n",
       "        text-align: right;\n",
       "    }\n",
       "</style>\n",
       "<table border=\"1\" class=\"dataframe\">\n",
       "  <thead>\n",
       "    <tr style=\"text-align: right;\">\n",
       "      <th></th>\n",
       "      <th>listing_id</th>\n",
       "      <th>date</th>\n",
       "      <th>available</th>\n",
       "      <th>price</th>\n",
       "    </tr>\n",
       "  </thead>\n",
       "  <tbody>\n",
       "    <tr>\n",
       "      <th>count</th>\n",
       "      <td>1.393570e+06</td>\n",
       "      <td>1393570</td>\n",
       "      <td>1393570</td>\n",
       "      <td>934542</td>\n",
       "    </tr>\n",
       "    <tr>\n",
       "      <th>unique</th>\n",
       "      <td>NaN</td>\n",
       "      <td>365</td>\n",
       "      <td>2</td>\n",
       "      <td>669</td>\n",
       "    </tr>\n",
       "    <tr>\n",
       "      <th>top</th>\n",
       "      <td>NaN</td>\n",
       "      <td>2016-05-22</td>\n",
       "      <td>t</td>\n",
       "      <td>$150.00</td>\n",
       "    </tr>\n",
       "    <tr>\n",
       "      <th>freq</th>\n",
       "      <td>NaN</td>\n",
       "      <td>3818</td>\n",
       "      <td>934542</td>\n",
       "      <td>36646</td>\n",
       "    </tr>\n",
       "    <tr>\n",
       "      <th>mean</th>\n",
       "      <td>5.550111e+06</td>\n",
       "      <td>NaN</td>\n",
       "      <td>NaN</td>\n",
       "      <td>NaN</td>\n",
       "    </tr>\n",
       "    <tr>\n",
       "      <th>std</th>\n",
       "      <td>2.962274e+06</td>\n",
       "      <td>NaN</td>\n",
       "      <td>NaN</td>\n",
       "      <td>NaN</td>\n",
       "    </tr>\n",
       "    <tr>\n",
       "      <th>min</th>\n",
       "      <td>3.335000e+03</td>\n",
       "      <td>NaN</td>\n",
       "      <td>NaN</td>\n",
       "      <td>NaN</td>\n",
       "    </tr>\n",
       "    <tr>\n",
       "      <th>25%</th>\n",
       "      <td>3.258213e+06</td>\n",
       "      <td>NaN</td>\n",
       "      <td>NaN</td>\n",
       "      <td>NaN</td>\n",
       "    </tr>\n",
       "    <tr>\n",
       "      <th>50%</th>\n",
       "      <td>6.118244e+06</td>\n",
       "      <td>NaN</td>\n",
       "      <td>NaN</td>\n",
       "      <td>NaN</td>\n",
       "    </tr>\n",
       "    <tr>\n",
       "      <th>75%</th>\n",
       "      <td>8.035212e+06</td>\n",
       "      <td>NaN</td>\n",
       "      <td>NaN</td>\n",
       "      <td>NaN</td>\n",
       "    </tr>\n",
       "    <tr>\n",
       "      <th>max</th>\n",
       "      <td>1.034016e+07</td>\n",
       "      <td>NaN</td>\n",
       "      <td>NaN</td>\n",
       "      <td>NaN</td>\n",
       "    </tr>\n",
       "  </tbody>\n",
       "</table>\n",
       "</div>"
      ],
      "text/plain": [
       "          listing_id        date available    price\n",
       "count   1.393570e+06     1393570   1393570   934542\n",
       "unique           NaN         365         2      669\n",
       "top              NaN  2016-05-22         t  $150.00\n",
       "freq             NaN        3818    934542    36646\n",
       "mean    5.550111e+06         NaN       NaN      NaN\n",
       "std     2.962274e+06         NaN       NaN      NaN\n",
       "min     3.335000e+03         NaN       NaN      NaN\n",
       "25%     3.258213e+06         NaN       NaN      NaN\n",
       "50%     6.118244e+06         NaN       NaN      NaN\n",
       "75%     8.035212e+06         NaN       NaN      NaN\n",
       "max     1.034016e+07         NaN       NaN      NaN"
      ]
     },
     "execution_count": 13,
     "metadata": {},
     "output_type": "execute_result"
    }
   ],
   "source": [
    "# Print rows and columns in calendar data set\n",
    "print('number of rows and columns- ', df_calendar.shape)\n",
    "# Assess null values\n",
    "print('number of null values:\\n', df_calendar.isnull().sum())\n",
    "# Describe\n",
    "df_calendar.describe(include= \"all\")"
   ]
  },
  {
   "cell_type": "markdown",
   "metadata": {},
   "source": [
    "### REVIEWS Data Set\n",
    "\n",
    "#### Section 2.5 Understanding Reviews Data Set\n",
    "\n",
    "Let's look at the Reviews data set next. We'll take a look at a few items: \n",
    "1. The dataset's row and column counts \n",
    "2. Missing values columns and columns with no missing values\n",
    "3. Describe the dataset to learn more about each column's attributes and structure of the dataset"
   ]
  },
  {
   "cell_type": "code",
   "execution_count": 14,
   "metadata": {},
   "outputs": [
    {
     "name": "stdout",
     "output_type": "stream",
     "text": [
      "number of rows and columns-  (84849, 6)\n",
      "number of null values:\n",
      " listing_id        0\n",
      "id                0\n",
      "date              0\n",
      "reviewer_id       0\n",
      "reviewer_name     0\n",
      "comments         18\n",
      "dtype: int64\n"
     ]
    },
    {
     "data": {
      "text/html": [
       "<div>\n",
       "<style scoped>\n",
       "    .dataframe tbody tr th:only-of-type {\n",
       "        vertical-align: middle;\n",
       "    }\n",
       "\n",
       "    .dataframe tbody tr th {\n",
       "        vertical-align: top;\n",
       "    }\n",
       "\n",
       "    .dataframe thead th {\n",
       "        text-align: right;\n",
       "    }\n",
       "</style>\n",
       "<table border=\"1\" class=\"dataframe\">\n",
       "  <thead>\n",
       "    <tr style=\"text-align: right;\">\n",
       "      <th></th>\n",
       "      <th>listing_id</th>\n",
       "      <th>id</th>\n",
       "      <th>date</th>\n",
       "      <th>reviewer_id</th>\n",
       "      <th>reviewer_name</th>\n",
       "      <th>comments</th>\n",
       "    </tr>\n",
       "  </thead>\n",
       "  <tbody>\n",
       "    <tr>\n",
       "      <th>count</th>\n",
       "      <td>8.484900e+04</td>\n",
       "      <td>8.484900e+04</td>\n",
       "      <td>84849</td>\n",
       "      <td>8.484900e+04</td>\n",
       "      <td>84849</td>\n",
       "      <td>84831</td>\n",
       "    </tr>\n",
       "    <tr>\n",
       "      <th>unique</th>\n",
       "      <td>NaN</td>\n",
       "      <td>NaN</td>\n",
       "      <td>1930</td>\n",
       "      <td>NaN</td>\n",
       "      <td>14380</td>\n",
       "      <td>84136</td>\n",
       "    </tr>\n",
       "    <tr>\n",
       "      <th>top</th>\n",
       "      <td>NaN</td>\n",
       "      <td>NaN</td>\n",
       "      <td>2015-09-21</td>\n",
       "      <td>NaN</td>\n",
       "      <td>David</td>\n",
       "      <td>The host canceled this reservation the day bef...</td>\n",
       "    </tr>\n",
       "    <tr>\n",
       "      <th>freq</th>\n",
       "      <td>NaN</td>\n",
       "      <td>NaN</td>\n",
       "      <td>580</td>\n",
       "      <td>NaN</td>\n",
       "      <td>870</td>\n",
       "      <td>57</td>\n",
       "    </tr>\n",
       "    <tr>\n",
       "      <th>mean</th>\n",
       "      <td>3.005067e+06</td>\n",
       "      <td>3.058765e+07</td>\n",
       "      <td>NaN</td>\n",
       "      <td>1.701301e+07</td>\n",
       "      <td>NaN</td>\n",
       "      <td>NaN</td>\n",
       "    </tr>\n",
       "    <tr>\n",
       "      <th>std</th>\n",
       "      <td>2.472877e+06</td>\n",
       "      <td>1.636613e+07</td>\n",
       "      <td>NaN</td>\n",
       "      <td>1.353704e+07</td>\n",
       "      <td>NaN</td>\n",
       "      <td>NaN</td>\n",
       "    </tr>\n",
       "    <tr>\n",
       "      <th>min</th>\n",
       "      <td>4.291000e+03</td>\n",
       "      <td>3.721000e+03</td>\n",
       "      <td>NaN</td>\n",
       "      <td>1.500000e+01</td>\n",
       "      <td>NaN</td>\n",
       "      <td>NaN</td>\n",
       "    </tr>\n",
       "    <tr>\n",
       "      <th>25%</th>\n",
       "      <td>7.946330e+05</td>\n",
       "      <td>1.725127e+07</td>\n",
       "      <td>NaN</td>\n",
       "      <td>5.053141e+06</td>\n",
       "      <td>NaN</td>\n",
       "      <td>NaN</td>\n",
       "    </tr>\n",
       "    <tr>\n",
       "      <th>50%</th>\n",
       "      <td>2.488228e+06</td>\n",
       "      <td>3.228809e+07</td>\n",
       "      <td>NaN</td>\n",
       "      <td>1.413476e+07</td>\n",
       "      <td>NaN</td>\n",
       "      <td>NaN</td>\n",
       "    </tr>\n",
       "    <tr>\n",
       "      <th>75%</th>\n",
       "      <td>4.694479e+06</td>\n",
       "      <td>4.457648e+07</td>\n",
       "      <td>NaN</td>\n",
       "      <td>2.762402e+07</td>\n",
       "      <td>NaN</td>\n",
       "      <td>NaN</td>\n",
       "    </tr>\n",
       "    <tr>\n",
       "      <th>max</th>\n",
       "      <td>1.024814e+07</td>\n",
       "      <td>5.873651e+07</td>\n",
       "      <td>NaN</td>\n",
       "      <td>5.281274e+07</td>\n",
       "      <td>NaN</td>\n",
       "      <td>NaN</td>\n",
       "    </tr>\n",
       "  </tbody>\n",
       "</table>\n",
       "</div>"
      ],
      "text/plain": [
       "          listing_id            id        date   reviewer_id reviewer_name  \\\n",
       "count   8.484900e+04  8.484900e+04       84849  8.484900e+04         84849   \n",
       "unique           NaN           NaN        1930           NaN         14380   \n",
       "top              NaN           NaN  2015-09-21           NaN         David   \n",
       "freq             NaN           NaN         580           NaN           870   \n",
       "mean    3.005067e+06  3.058765e+07         NaN  1.701301e+07           NaN   \n",
       "std     2.472877e+06  1.636613e+07         NaN  1.353704e+07           NaN   \n",
       "min     4.291000e+03  3.721000e+03         NaN  1.500000e+01           NaN   \n",
       "25%     7.946330e+05  1.725127e+07         NaN  5.053141e+06           NaN   \n",
       "50%     2.488228e+06  3.228809e+07         NaN  1.413476e+07           NaN   \n",
       "75%     4.694479e+06  4.457648e+07         NaN  2.762402e+07           NaN   \n",
       "max     1.024814e+07  5.873651e+07         NaN  5.281274e+07           NaN   \n",
       "\n",
       "                                                 comments  \n",
       "count                                               84831  \n",
       "unique                                              84136  \n",
       "top     The host canceled this reservation the day bef...  \n",
       "freq                                                   57  \n",
       "mean                                                  NaN  \n",
       "std                                                   NaN  \n",
       "min                                                   NaN  \n",
       "25%                                                   NaN  \n",
       "50%                                                   NaN  \n",
       "75%                                                   NaN  \n",
       "max                                                   NaN  "
      ]
     },
     "execution_count": 14,
     "metadata": {},
     "output_type": "execute_result"
    }
   ],
   "source": [
    "# Print rows and columns in reviews data set\n",
    "print('number of rows and columns- ', df_reviews.shape)\n",
    "# Assess null values\n",
    "print('number of null values:\\n', df_reviews.isnull().sum())\n",
    "# Describe\n",
    "df_reviews.describe(include= \"all\")"
   ]
  },
  {
   "cell_type": "markdown",
   "metadata": {},
   "source": [
    "### 3. DATA ANALYSIS\n",
    "\n",
    "\n",
    "#### Section 3.1 Questions\n",
    "\n",
    "**1.** What are the differences in pricing between the months of the year?   <br>\n",
    "**2.** How does pricing differ by neighbourhood, and which Seattle neighbourhoods are the most expensive?  <br>\n",
    "**3.** What effect does the kind of property in an area have on the price of the most costly neighbourhoods and the most prevalent property types?  "
   ]
  },
  {
   "cell_type": "markdown",
   "metadata": {},
   "source": [
    "1. What are the differences in pricing between the months of the year? "
   ]
  },
  {
   "cell_type": "code",
   "execution_count": 15,
   "metadata": {},
   "outputs": [
    {
     "data": {
      "image/png": "[encoded data removed]",
      "text/plain": [
       "<Figure size 432x288 with 1 Axes>"
      ]
     },
     "metadata": {
      "needs_background": "light"
     },
     "output_type": "display_data"
    }
   ],
   "source": [
    "# Plot the average price by month \n",
    "df_calendar['year'] = pd.DatetimeIndex(df_calendar['date']).year\n",
    "df_calendar['month'] = pd.DatetimeIndex(df_calendar['date']).month\n",
    "\n",
    "# In order to make average price, we will be converting it to float and removing the $ sign\n",
    "df_calendar['price'] = df_calendar['price'].replace('[\\$,]', '', regex=True).astype(float)\n",
    "\n",
    "df_calendar.groupby(['year','month'])[['price']].mean().plot(kind='bar', color = 'green');"
   ]
  },
  {
   "cell_type": "markdown",
   "metadata": {},
   "source": [
    "#### FINDINGS\n",
    "\n",
    "According to the chart above, the peak months are June through August, with July being the highest.\n",
    "With summer in full swing and low potential of rain, the chart validates my hypothesis that these months in Seattle have the optimum weather. \n",
    "\n",
    "Furthermore, it looks likely that the year begins gradually, with the minimum average price in January.\n",
    "Prices begin to rise again around April/May respectively, as we approach Spring and the holiday season.and November/December for Winter holiday. "
   ]
  },
  {
   "cell_type": "code",
   "execution_count": 16,
   "metadata": {},
   "outputs": [
    {
     "data": {
      "image/png": "[encoded data removed]",
      "text/plain": [
       "<Figure size 864x360 with 1 Axes>"
      ]
     },
     "metadata": {
      "needs_background": "light"
     },
     "output_type": "display_data"
    }
   ],
   "source": [
    "# Plot the average price by month \n",
    "df_calendar['year']= pd.DatetimeIndex(df_calendar['date']).year\n",
    "df_calendar['month']= pd.DatetimeIndex(df_calendar['date']).month\n",
    "# In order to average price, we will be converting it to float and removing the $ sign\n",
    "df_calendar['price']= df_calendar['price'].replace('[/$,]','', regex= True).astype(float)\n",
    "\n",
    "df_calendar.groupby(['year','month'])['price'].mean().plot(figsize=(12,5));\n",
    "plt.legend((['price']), loc= 1,  prop={'size': 10});"
   ]
  },
  {
   "cell_type": "markdown",
   "metadata": {},
   "source": [
    "The chart showed that We will discover that the best time to visit Seattle is July.\n",
    "This draws in more visitors. "
   ]
  },
  {
   "cell_type": "markdown",
   "metadata": {},
   "source": [
    "#### Section 3.1.2\n",
    "2. How does pricing differ by neighbourhood, and which Seattle neighbourhoods are the most expensive? "
   ]
  },
  {
   "cell_type": "code",
   "execution_count": 17,
   "metadata": {},
   "outputs": [
    {
     "name": "stdout",
     "output_type": "stream",
     "text": [
      "                                price\n",
      "neighbourhood_cleansed               \n",
      "Southeast Magnolia         231.705882\n",
      "Portage Bay                227.857143\n",
      "Westlake                   194.470588\n",
      "West Queen Anne            187.769231\n",
      "Montlake                   182.789474\n",
      "Briarcliff                 176.571429\n",
      "Sunset Hill                176.055556\n",
      "Industrial District        173.333333\n",
      "Alki                       171.619048\n",
      "Windermere                 169.900000\n",
      "Pioneer Square             169.260870\n",
      "Central Business District  164.213592\n",
      "Fauntleroy                 164.100000\n",
      "Belltown                   162.893162\n",
      "East Queen Anne            159.414634\n",
      "Madrona                    158.234043\n",
      "Pike-Market                157.785714\n",
      "North Queen Anne           150.240741\n",
      "Green Lake                 149.018519\n",
      "Lawton Park                147.566667\n",
      "Holly Park                 147.166667\n",
      "North Admiral              146.408163\n",
      "View Ridge                 139.000000\n",
      "Lower Queen Anne           138.202128\n",
      "First Hill                 136.425926\n",
      "South Lake Union           135.481481\n",
      "Leschi                     134.358491\n",
      "Stevens                    133.210084\n",
      "Mann                       131.985075\n",
      "Madison Park               130.388889\n",
      "Phinney Ridge              129.520548\n",
      "Fremont                    129.056962\n",
      "Fairmount Park             128.931034\n",
      "Whittier Heights           128.653846\n",
      "Roosevelt                  128.533333\n",
      "Wallingford                128.431138\n",
      "North Beach/Blue Ridge     128.285714\n",
      "Arbor Heights              126.800000\n",
      "West Woodland              124.343750\n",
      "Gatewood                   124.318182\n",
      "Broadway                   123.889169\n",
      "Eastlake                   122.333333\n",
      "Genesee                    121.970588\n",
      "Minor                      121.800000\n",
      "Adams                      121.671429\n",
      "Seaview                    118.166667\n",
      "Pinehurst                  117.250000\n",
      "Yesler Terrace             116.235294\n",
      "Harrison/Denny-Blaine      114.928571\n",
      "Bryant                     114.896552\n",
      "Cedar Park                 114.625000\n",
      "Atlantic                   111.396226\n",
      "Wedgwood                   110.444444\n",
      "Interbay                   109.727273\n",
      "Loyal Heights              109.384615\n",
      "Seward Park                108.477273\n",
      "Laurelhurst                108.400000\n",
      "Matthews Beach             107.105263\n",
      "International District     104.882353\n",
      "High Point                 104.357143\n",
      "Haller Lake                103.400000\n",
      "Greenwood                   98.820225\n",
      "Meadowbrook                 98.666667\n",
      "Mount Baker                 98.300000\n",
      "North Beacon Hill           96.884615\n",
      "Columbia City               95.017241\n",
      "Broadview                   94.705882\n",
      "University District         93.639344\n",
      "Roxhill                     92.500000\n",
      "Brighton                    91.230769\n",
      "South Park                  90.000000\n",
      "North College Park          89.105263\n",
      "Ravenna                     88.686567\n",
      "Dunlap                      88.300000\n",
      "Crown Hill                  87.666667\n",
      "Highland Park               86.272727\n",
      "South Beacon Hill           83.250000\n",
      "Bitter Lake                 83.000000\n",
      "Victory Heights             81.466667\n",
      "Riverview                   80.500000\n",
      "Maple Leaf                  80.261905\n",
      "Mid-Beacon Hill             79.933333\n",
      "North Delridge              76.375000\n",
      "Georgetown                  76.125000\n",
      "South Delridge              74.666667\n",
      "Olympic Hills               71.687500\n",
      "Rainier Beach               68.555556\n"
     ]
    },
    {
     "data": {
      "image/png": "[encoded data removed]",
      "text/plain": [
       "<Figure size 432x288 with 1 Axes>"
      ]
     },
     "metadata": {
      "needs_background": "light"
     },
     "output_type": "display_data"
    }
   ],
   "source": [
    "# Plot the average price by neighborhood\n",
    "\n",
    "# We'll convert it to float and remove the $ symbol in order to get an average price.\n",
    "df_listings['price'] = df_listings['price'].replace('[\\$,]', '', regex=True).astype(float)\n",
    "\n",
    "print(df_listings.groupby(['neighbourhood_cleansed'])[['price']].mean().sort_values(by='price',ascending=False))\n",
    "df_listings.groupby(['neighbourhood_cleansed'])[['price']].mean().plot(color ='green');\n"
   ]
  },
  {
   "cell_type": "code",
   "execution_count": 18,
   "metadata": {},
   "outputs": [
    {
     "data": {
      "image/png": "[encoded data removed]",
      "text/plain": [
       "<Figure size 1440x432 with 1 Axes>"
      ]
     },
     "metadata": {
      "needs_background": "light"
     },
     "output_type": "display_data"
    }
   ],
   "source": [
    "# Look for a relationship between the neighborhood and the pricing. \n",
    "neighborhood_price=df_listings.groupby(['neighbourhood_cleansed'])[['price']].mean().sort_values(by='price', ascending= False)\n",
    "neighborhood_price.plot(kind= 'bar',figsize=(20,6));"
   ]
  },
  {
   "cell_type": "markdown",
   "metadata": {},
   "source": [
    "#### FINDINGS\n",
    "\n",
    "According to the chart above, prices in different neighbourhoods are very evenly dispersed.\n",
    "Some of them are quite pricey, such as Southeast Magnolia, and others are quite affordable, such as Rainier Beach. "
   ]
  },
  {
   "cell_type": "code",
   "execution_count": 19,
   "metadata": {},
   "outputs": [
    {
     "data": {
      "image/png": "[encoded data removed]",
      "text/plain": [
       "<Figure size 432x288 with 1 Axes>"
      ]
     },
     "metadata": {
      "needs_background": "light"
     },
     "output_type": "display_data"
    }
   ],
   "source": [
    "# Plot top 10 neighbourhoods\n",
    "top10_neigh = df_listings.groupby(['neighbourhood_cleansed'])[['price']].mean().sort_values(by='price',ascending=False).head()\n",
    "top10_neigh.plot(kind='bar', color = 'green');"
   ]
  },
  {
   "cell_type": "markdown",
   "metadata": {},
   "source": [
    "#### FINDINGS\n",
    "The ten most expensive neighbourhoods in Seattle are shown in the chart above. "
   ]
  },
  {
   "cell_type": "code",
   "execution_count": 20,
   "metadata": {},
   "outputs": [
    {
     "data": {
      "image/png": "[encoded data removed]",
      "text/plain": [
       "<Figure size 432x288 with 1 Axes>"
      ]
     },
     "metadata": {
      "needs_background": "light"
     },
     "output_type": "display_data"
    }
   ],
   "source": [
    "# Plot bottom 10 neighbourhoods\n",
    "bottom10_neigh = df_listings.groupby(['neighbourhood_cleansed'])[['price']].mean().sort_values(by='price',ascending=False).tail()\n",
    "bottom10_neigh.plot(kind='bar', color = 'green');"
   ]
  },
  {
   "cell_type": "markdown",
   "metadata": {},
   "source": [
    "#### FINDINGS\n",
    "\n",
    "The ten most cheapest neighbourhoods in Seattle are shown in the chart above. \n",
    "\n",
    "According to the above analysis, pricing variations between neighbourhoods are unavoidable.\n",
    "With an average price of $231, the Southeast Magnolia area appears to be the most expensive of all. \n",
    "\n",
    "Followed by Portage Bay at $227.\n",
    "\n",
    "Rainier Beach appears to be the cheapest, with an average price of $68.\n"
   ]
  },
  {
   "cell_type": "markdown",
   "metadata": {},
   "source": [
    "#### Section 3.1.3\n",
    "3. What effect does the kind of property in an area have on the price of the most costly neighbourhoods and the most prevalent property types?"
   ]
  },
  {
   "cell_type": "code",
   "execution_count": 21,
   "metadata": {},
   "outputs": [
    {
     "name": "stdout",
     "output_type": "stream",
     "text": [
      "price of properties\n",
      "                       price\n",
      "property_type              \n",
      "Boat             282.375000\n",
      "Condominium      151.109890\n",
      "Loft             135.700000\n",
      "House            132.351414\n",
      "Townhouse        129.457627\n",
      "Apartment        122.932670\n",
      "Camper/RV        120.461538\n",
      "Bungalow         115.615385\n",
      "Bed & Breakfast  112.054054\n",
      "Cabin            104.666667\n",
      "Treehouse        101.000000\n",
      "Yurt             100.000000\n",
      "Chalet            98.500000\n",
      "Other             94.681818\n",
      "Tent              54.000000\n",
      "Dorm              39.500000\n",
      "count of properties\n",
      " House              1733\n",
      "Apartment          1708\n",
      "Townhouse           118\n",
      "Condominium          91\n",
      "Loft                 40\n",
      "Bed & Breakfast      37\n",
      "Other                22\n",
      "Cabin                21\n",
      "Camper/RV            13\n",
      "Bungalow             13\n",
      "Boat                  8\n",
      "Tent                  5\n",
      "Treehouse             3\n",
      "Chalet                2\n",
      "Dorm                  2\n",
      "Yurt                  1\n",
      "Name: property_type, dtype: int64\n"
     ]
    }
   ],
   "source": [
    "# Investigate the different sorts of properties in a neighbourhoods and how they affect the price. \n",
    "print('price of properties\\n',df_listings.groupby(['property_type'])[['price']].mean().sort_values(by='price',ascending=False))\n",
    "print('count of properties\\n',df_listings['property_type'].value_counts());"
   ]
  },
  {
   "cell_type": "markdown",
   "metadata": {},
   "source": [
    "#### FINDINGS\n",
    "\n",
    "We can deduce from the result that the most expensive properties are Boat and Condominium. The majority of rented homes, however, are houses and apartments."
   ]
  },
  {
   "cell_type": "code",
   "execution_count": 22,
   "metadata": {},
   "outputs": [
    {
     "data": {
      "text/html": [
       "<div>\n",
       "<style scoped>\n",
       "    .dataframe tbody tr th:only-of-type {\n",
       "        vertical-align: middle;\n",
       "    }\n",
       "\n",
       "    .dataframe tbody tr th {\n",
       "        vertical-align: top;\n",
       "    }\n",
       "\n",
       "    .dataframe thead th {\n",
       "        text-align: right;\n",
       "    }\n",
       "</style>\n",
       "<table border=\"1\" class=\"dataframe\">\n",
       "  <thead>\n",
       "    <tr style=\"text-align: right;\">\n",
       "      <th></th>\n",
       "      <th>neighbourhood_cleansed</th>\n",
       "      <th>property_type</th>\n",
       "      <th>price</th>\n",
       "    </tr>\n",
       "  </thead>\n",
       "  <tbody>\n",
       "    <tr>\n",
       "      <th>0</th>\n",
       "      <td>Montlake</td>\n",
       "      <td>Apartment</td>\n",
       "      <td>133.333333</td>\n",
       "    </tr>\n",
       "    <tr>\n",
       "      <th>1</th>\n",
       "      <td>Montlake</td>\n",
       "      <td>House</td>\n",
       "      <td>191.533333</td>\n",
       "    </tr>\n",
       "    <tr>\n",
       "      <th>2</th>\n",
       "      <td>Portage Bay</td>\n",
       "      <td>Apartment</td>\n",
       "      <td>113.833333</td>\n",
       "    </tr>\n",
       "    <tr>\n",
       "      <th>3</th>\n",
       "      <td>Portage Bay</td>\n",
       "      <td>House</td>\n",
       "      <td>340.285714</td>\n",
       "    </tr>\n",
       "    <tr>\n",
       "      <th>4</th>\n",
       "      <td>Southeast Magnolia</td>\n",
       "      <td>Apartment</td>\n",
       "      <td>219.600000</td>\n",
       "    </tr>\n",
       "    <tr>\n",
       "      <th>5</th>\n",
       "      <td>Southeast Magnolia</td>\n",
       "      <td>House</td>\n",
       "      <td>234.100000</td>\n",
       "    </tr>\n",
       "    <tr>\n",
       "      <th>6</th>\n",
       "      <td>West Queen Anne</td>\n",
       "      <td>Apartment</td>\n",
       "      <td>128.208333</td>\n",
       "    </tr>\n",
       "    <tr>\n",
       "      <th>7</th>\n",
       "      <td>West Queen Anne</td>\n",
       "      <td>House</td>\n",
       "      <td>247.393939</td>\n",
       "    </tr>\n",
       "    <tr>\n",
       "      <th>8</th>\n",
       "      <td>Westlake</td>\n",
       "      <td>Apartment</td>\n",
       "      <td>142.400000</td>\n",
       "    </tr>\n",
       "    <tr>\n",
       "      <th>9</th>\n",
       "      <td>Westlake</td>\n",
       "      <td>House</td>\n",
       "      <td>168.000000</td>\n",
       "    </tr>\n",
       "  </tbody>\n",
       "</table>\n",
       "</div>"
      ],
      "text/plain": [
       "  neighbourhood_cleansed property_type       price\n",
       "0               Montlake     Apartment  133.333333\n",
       "1               Montlake         House  191.533333\n",
       "2            Portage Bay     Apartment  113.833333\n",
       "3            Portage Bay         House  340.285714\n",
       "4     Southeast Magnolia     Apartment  219.600000\n",
       "5     Southeast Magnolia         House  234.100000\n",
       "6        West Queen Anne     Apartment  128.208333\n",
       "7        West Queen Anne         House  247.393939\n",
       "8               Westlake     Apartment  142.400000\n",
       "9               Westlake         House  168.000000"
      ]
     },
     "execution_count": 22,
     "metadata": {},
     "output_type": "execute_result"
    }
   ],
   "source": [
    "# Investigate the different sorts of property in a neighbourhoods and how they affect the price. \n",
    "# Concentrate on the top five most expensive neighbourhoods from the list above: Southeast Magnolia, Portage Bay, Westlake, West Queen Anne, and Montlake. \n",
    "# Concentrate on two sorts of properties: houses and apartments. \n",
    "\n",
    "values_keep_neigh = ('Southeast Magnolia','Portage Bay','Westlake','West Queen Anne','Montlake')\n",
    "values_keep_prop = ('Apartment','House')\n",
    "df_listings_pruned1 = df_listings.loc[df_listings['neighbourhood_cleansed'].isin(values_keep_neigh)]\n",
    "df_listings_pruned2 = df_listings_pruned1.loc[df_listings['property_type'].isin(values_keep_prop)]\n",
    "\n",
    "df_neigh_prop = df_listings_pruned2.groupby(['neighbourhood_cleansed','property_type'])[['price']].mean().reset_index()\n",
    "df_neigh_prop"
   ]
  },
  {
   "cell_type": "code",
   "execution_count": 23,
   "metadata": {},
   "outputs": [
    {
     "data": {
      "text/plain": [
       "(5, 2)"
      ]
     },
     "execution_count": 23,
     "metadata": {},
     "output_type": "execute_result"
    }
   ],
   "source": [
    "price_arr = df_neigh_prop['price'].values\n",
    "price_arr = np.reshape(price_arr, (5,2))\n",
    "price_arr.shape"
   ]
  },
  {
   "cell_type": "code",
   "execution_count": 24,
   "metadata": {},
   "outputs": [
    {
     "data": {
      "image/png": "[encoded data removed]",
      "text/plain": [
       "<Figure size 432x288 with 2 Axes>"
      ]
     },
     "metadata": {
      "needs_background": "light"
     },
     "output_type": "display_data"
    }
   ],
   "source": [
    "# Heatmap reference: https://seaborn.pydata.org/generated/seaborn.heatmap.html\n",
    "idx = ['Southeast Magnolia','Portage Bay','Westlake','West Queen Anne','Montlake']\n",
    "cols = ['Apartment', 'House']\n",
    "df = pd.DataFrame(price_arr, index=idx, columns=cols)\n",
    "\n",
    "# _r reverses the normal order of the color map 'RdYlGn'\n",
    "sns.heatmap(df, cmap='RdYlGn_r', linewidths=0.5, annot=True);"
   ]
  },
  {
   "cell_type": "markdown",
   "metadata": {},
   "source": [
    "#### FINDINGS\n",
    "\n",
    "We concentrated on the top 5 most expensive neighbourhoods from the above analysis, along with Houses and Apartments, because we recognize they make up a significant portion of property types based on the previous analysis. \n",
    "\n",
    "Houses in Portage Bay are the most expensive, followed by Houses in West Queen Anne and Westlake, as seen above.\n",
    "It's worth noting that in Westlake, both houses and apartments are almost the same price.  \n"
   ]
  },
  {
   "cell_type": "markdown",
   "metadata": {},
   "source": [
    "### Questions  - Sentiment Analysis of Reviews\n",
    "\n",
    "**4.** How can we classify reviews focused on sentiments?  <br>\n",
    "**5.** Can we correlate positive and negative attitudes from reviews to neighbourhoods to see which neighbourhoods have higher positive sentiments and which have higher negative sentiments? <br>\n",
    "**6.** Is it possible to look into some of the worst reviews for additional insights? "
   ]
  },
  {
   "cell_type": "code",
   "execution_count": 25,
   "metadata": {},
   "outputs": [
    {
     "data": {
      "text/html": [
       "<div>\n",
       "<style scoped>\n",
       "    .dataframe tbody tr th:only-of-type {\n",
       "        vertical-align: middle;\n",
       "    }\n",
       "\n",
       "    .dataframe tbody tr th {\n",
       "        vertical-align: top;\n",
       "    }\n",
       "\n",
       "    .dataframe thead th {\n",
       "        text-align: right;\n",
       "    }\n",
       "</style>\n",
       "<table border=\"1\" class=\"dataframe\">\n",
       "  <thead>\n",
       "    <tr style=\"text-align: right;\">\n",
       "      <th></th>\n",
       "      <th>listing_id</th>\n",
       "      <th>comments</th>\n",
       "    </tr>\n",
       "  </thead>\n",
       "  <tbody>\n",
       "    <tr>\n",
       "      <th>0</th>\n",
       "      <td>7202016</td>\n",
       "      <td>Cute and cozy place. Perfect location to every...</td>\n",
       "    </tr>\n",
       "    <tr>\n",
       "      <th>1</th>\n",
       "      <td>7202016</td>\n",
       "      <td>Kelly has a great room in a very central locat...</td>\n",
       "    </tr>\n",
       "    <tr>\n",
       "      <th>2</th>\n",
       "      <td>7202016</td>\n",
       "      <td>Very spacious apartment, and in a great neighb...</td>\n",
       "    </tr>\n",
       "    <tr>\n",
       "      <th>3</th>\n",
       "      <td>7202016</td>\n",
       "      <td>Close to Seattle Center and all it has to offe...</td>\n",
       "    </tr>\n",
       "    <tr>\n",
       "      <th>4</th>\n",
       "      <td>7202016</td>\n",
       "      <td>Kelly was a great host and very accommodating ...</td>\n",
       "    </tr>\n",
       "  </tbody>\n",
       "</table>\n",
       "</div>"
      ],
      "text/plain": [
       "   listing_id                                           comments\n",
       "0     7202016  Cute and cozy place. Perfect location to every...\n",
       "1     7202016  Kelly has a great room in a very central locat...\n",
       "2     7202016  Very spacious apartment, and in a great neighb...\n",
       "3     7202016  Close to Seattle Center and all it has to offe...\n",
       "4     7202016  Kelly was a great host and very accommodating ..."
      ]
     },
     "execution_count": 25,
     "metadata": {},
     "output_type": "execute_result"
    }
   ],
   "source": [
    "# Create a smaller data frame with just listing ids and review comments\n",
    "df_comments = df_reviews[['listing_id', 'comments']].copy()\n",
    "df_comments.head()"
   ]
  },
  {
   "cell_type": "code",
   "execution_count": 26,
   "metadata": {},
   "outputs": [
    {
     "data": {
      "text/plain": [
       "'Lower Queen Anne'"
      ]
     },
     "execution_count": 26,
     "metadata": {},
     "output_type": "execute_result"
    }
   ],
   "source": [
    "# Take a listing id and return the neighbourhood cleansed column from the listings data set with this function. \n",
    "# Subsequently, I used the listings dataset's neighbourhood column, but I discovered that some values were empty, so I switched to the neighbourhood cleansed column. \n",
    "def get_neighborhood(listing_id):\n",
    "    '''\n",
    "    Take a listing id and return the neighbourhood cleansed column from the listings data set with this function.\n",
    "    INPUT:\n",
    "    listing_id - listing_id column for a particular listing\n",
    "    OUTPUT:\n",
    "    neighbourhood - the neighbourhood_cleansed column follow with a specific listing_id\n",
    "    \n",
    "    Allows you to correlate reviews with neighbourhoods by mapping each listing id to its appropriate neighbourhood. \n",
    "    '''\n",
    "    neighbourhood = df_listings.loc[df_listings['id'] == listing_id, 'neighbourhood_cleansed'].iloc[0]\n",
    "    return neighbourhood\n",
    "\n",
    "# Test function\n",
    "get_neighborhood(7202016)"
   ]
  },
  {
   "cell_type": "code",
   "execution_count": 27,
   "metadata": {},
   "outputs": [
    {
     "data": {
      "text/html": [
       "<div>\n",
       "<style scoped>\n",
       "    .dataframe tbody tr th:only-of-type {\n",
       "        vertical-align: middle;\n",
       "    }\n",
       "\n",
       "    .dataframe tbody tr th {\n",
       "        vertical-align: top;\n",
       "    }\n",
       "\n",
       "    .dataframe thead th {\n",
       "        text-align: right;\n",
       "    }\n",
       "</style>\n",
       "<table border=\"1\" class=\"dataframe\">\n",
       "  <thead>\n",
       "    <tr style=\"text-align: right;\">\n",
       "      <th></th>\n",
       "      <th>listing_id</th>\n",
       "      <th>comments</th>\n",
       "      <th>neighbourhood</th>\n",
       "    </tr>\n",
       "  </thead>\n",
       "  <tbody>\n",
       "    <tr>\n",
       "      <th>0</th>\n",
       "      <td>7202016</td>\n",
       "      <td>Cute and cozy place. Perfect location to every...</td>\n",
       "      <td>Lower Queen Anne</td>\n",
       "    </tr>\n",
       "    <tr>\n",
       "      <th>1</th>\n",
       "      <td>7202016</td>\n",
       "      <td>Kelly has a great room in a very central locat...</td>\n",
       "      <td>Lower Queen Anne</td>\n",
       "    </tr>\n",
       "    <tr>\n",
       "      <th>2</th>\n",
       "      <td>7202016</td>\n",
       "      <td>Very spacious apartment, and in a great neighb...</td>\n",
       "      <td>Lower Queen Anne</td>\n",
       "    </tr>\n",
       "    <tr>\n",
       "      <th>3</th>\n",
       "      <td>7202016</td>\n",
       "      <td>Close to Seattle Center and all it has to offe...</td>\n",
       "      <td>Lower Queen Anne</td>\n",
       "    </tr>\n",
       "    <tr>\n",
       "      <th>4</th>\n",
       "      <td>7202016</td>\n",
       "      <td>Kelly was a great host and very accommodating ...</td>\n",
       "      <td>Lower Queen Anne</td>\n",
       "    </tr>\n",
       "  </tbody>\n",
       "</table>\n",
       "</div>"
      ],
      "text/plain": [
       "   listing_id                                           comments  \\\n",
       "0     7202016  Cute and cozy place. Perfect location to every...   \n",
       "1     7202016  Kelly has a great room in a very central locat...   \n",
       "2     7202016  Very spacious apartment, and in a great neighb...   \n",
       "3     7202016  Close to Seattle Center and all it has to offe...   \n",
       "4     7202016  Kelly was a great host and very accommodating ...   \n",
       "\n",
       "      neighbourhood  \n",
       "0  Lower Queen Anne  \n",
       "1  Lower Queen Anne  \n",
       "2  Lower Queen Anne  \n",
       "3  Lower Queen Anne  \n",
       "4  Lower Queen Anne  "
      ]
     },
     "execution_count": 27,
     "metadata": {},
     "output_type": "execute_result"
    }
   ],
   "source": [
    "# Implement get_neighborhood function to the listing ids\n",
    "df_comments['neighbourhood'] = df_comments['listing_id'].apply(get_neighborhood)\n",
    "df_comments.head()"
   ]
  },
  {
   "cell_type": "code",
   "execution_count": 28,
   "metadata": {},
   "outputs": [
    {
     "data": {
      "text/plain": [
       "0"
      ]
     },
     "execution_count": 28,
     "metadata": {},
     "output_type": "execute_result"
    }
   ],
   "source": [
    "# Make sure to verify if any listing ids have no association with neighbourhoods \n",
    "df_comments['neighbourhood'].isnull().sum()"
   ]
  },
  {
   "cell_type": "code",
   "execution_count": 29,
   "metadata": {},
   "outputs": [
    {
     "data": {
      "text/html": [
       "<div>\n",
       "<style scoped>\n",
       "    .dataframe tbody tr th:only-of-type {\n",
       "        vertical-align: middle;\n",
       "    }\n",
       "\n",
       "    .dataframe tbody tr th {\n",
       "        vertical-align: top;\n",
       "    }\n",
       "\n",
       "    .dataframe thead th {\n",
       "        text-align: right;\n",
       "    }\n",
       "</style>\n",
       "<table border=\"1\" class=\"dataframe\">\n",
       "  <thead>\n",
       "    <tr style=\"text-align: right;\">\n",
       "      <th></th>\n",
       "      <th>listing_id</th>\n",
       "      <th>comments</th>\n",
       "      <th>neighbourhood</th>\n",
       "      <th>polarity_score</th>\n",
       "    </tr>\n",
       "  </thead>\n",
       "  <tbody>\n",
       "    <tr>\n",
       "      <th>0</th>\n",
       "      <td>7202016</td>\n",
       "      <td>Cute and cozy place. Perfect location to every...</td>\n",
       "      <td>Lower Queen Anne</td>\n",
       "      <td>0.7901</td>\n",
       "    </tr>\n",
       "    <tr>\n",
       "      <th>1</th>\n",
       "      <td>7202016</td>\n",
       "      <td>Kelly has a great room in a very central locat...</td>\n",
       "      <td>Lower Queen Anne</td>\n",
       "      <td>0.9872</td>\n",
       "    </tr>\n",
       "    <tr>\n",
       "      <th>2</th>\n",
       "      <td>7202016</td>\n",
       "      <td>Very spacious apartment, and in a great neighb...</td>\n",
       "      <td>Lower Queen Anne</td>\n",
       "      <td>0.8718</td>\n",
       "    </tr>\n",
       "    <tr>\n",
       "      <th>3</th>\n",
       "      <td>7202016</td>\n",
       "      <td>Close to Seattle Center and all it has to offe...</td>\n",
       "      <td>Lower Queen Anne</td>\n",
       "      <td>0.8313</td>\n",
       "    </tr>\n",
       "    <tr>\n",
       "      <th>4</th>\n",
       "      <td>7202016</td>\n",
       "      <td>Kelly was a great host and very accommodating ...</td>\n",
       "      <td>Lower Queen Anne</td>\n",
       "      <td>0.9783</td>\n",
       "    </tr>\n",
       "  </tbody>\n",
       "</table>\n",
       "</div>"
      ],
      "text/plain": [
       "   listing_id                                           comments  \\\n",
       "0     7202016  Cute and cozy place. Perfect location to every...   \n",
       "1     7202016  Kelly has a great room in a very central locat...   \n",
       "2     7202016  Very spacious apartment, and in a great neighb...   \n",
       "3     7202016  Close to Seattle Center and all it has to offe...   \n",
       "4     7202016  Kelly was a great host and very accommodating ...   \n",
       "\n",
       "      neighbourhood  polarity_score  \n",
       "0  Lower Queen Anne          0.7901  \n",
       "1  Lower Queen Anne          0.9872  \n",
       "2  Lower Queen Anne          0.8718  \n",
       "3  Lower Queen Anne          0.8313  \n",
       "4  Lower Queen Anne          0.9783  "
      ]
     },
     "execution_count": 29,
     "metadata": {},
     "output_type": "execute_result"
    }
   ],
   "source": [
    "# SentimentIntensity Analyzer reference: https://www.nltk.org/api/nltk.sentiment.html\n",
    "\n",
    "analyser = SentimentIntensityAnalyzer()\n",
    "\n",
    "def sentiment_analyzer_scores(sentence):\n",
    "    '''\n",
    "    Returns the compound polarity score after executing the sentiment intensity analyzer on a statement. \n",
    "    INPUT:\n",
    "    sentence - the reviewer's comments in text \n",
    "    OUTPUT:\n",
    "    score['compound'] - the composite score resulting from the addition of positive, negative, and neutral scores \n",
    "    \n",
    "    For sentiment analysis, it returns the compound score for a single statement. \n",
    "    '''\n",
    "    sentence = str(sentence)\n",
    "    score = analyser.polarity_scores(sentence)\n",
    "    return score['compound']\n",
    "\n",
    "\n",
    "df_comments['polarity_score'] = df_comments['comments'].apply(sentiment_analyzer_scores)\n",
    "df_comments.head()"
   ]
  },
  {
   "cell_type": "code",
   "execution_count": 30,
   "metadata": {},
   "outputs": [
    {
     "name": "stdout",
     "output_type": "stream",
     "text": [
      "Positive compound scores:  82450\n",
      "Negative compound scores:  843\n",
      "Neutral compound scores:  1556\n"
     ]
    }
   ],
   "source": [
    "# Count the number of positive, negative, and neutral compound polarity scores\n",
    "print('Positive compound scores: ',df_comments['polarity_score'][df_comments['polarity_score'] > 0].count())\n",
    "print('Negative compound scores: ',df_comments['polarity_score'][df_comments['polarity_score'] < 0].count())\n",
    "print('Neutral compound scores: ',df_comments['polarity_score'][df_comments['polarity_score'] == 0].count())\n"
   ]
  },
  {
   "cell_type": "code",
   "execution_count": 31,
   "metadata": {},
   "outputs": [],
   "source": [
    "# Aggregate the polarity scores by neighbourhood and average them. \n",
    "neigh_polarity = df_comments.groupby('neighbourhood')[['polarity_score']].mean().sort_values(by='polarity_score',ascending=False)"
   ]
  },
  {
   "cell_type": "code",
   "execution_count": 32,
   "metadata": {},
   "outputs": [
    {
     "data": {
      "image/png": "[encoded data removed]",
      "text/plain": [
       "<Figure size 432x288 with 1 Axes>"
      ]
     },
     "metadata": {
      "needs_background": "light"
     },
     "output_type": "display_data"
    }
   ],
   "source": [
    "# Visualize top neighbourhoods based on reviews\n",
    "neigh_polarity.head(10).plot(kind='bar', color = 'green');\n"
   ]
  },
  {
   "cell_type": "code",
   "execution_count": 33,
   "metadata": {},
   "outputs": [
    {
     "data": {
      "image/png": "[encoded data removed]",
      "text/plain": [
       "<Figure size 432x288 with 1 Axes>"
      ]
     },
     "metadata": {
      "needs_background": "light"
     },
     "output_type": "display_data"
    }
   ],
   "source": [
    "# Visualize bottom 10 neighbourhoods based on reviews\n",
    "neigh_polarity.tail(10).plot(kind='bar', color = 'green');"
   ]
  },
  {
   "cell_type": "markdown",
   "metadata": {},
   "source": [
    "#### FINDINGS\n",
    "\n",
    "Some of the best-rated neighbourhoods include Roxhill, Cedar Park, and Pinehurst.\n",
    "University District, Holly Park, and View Ridge are the neighbourhoods with the lowest rankings. "
   ]
  },
  {
   "cell_type": "code",
   "execution_count": 34,
   "metadata": {},
   "outputs": [
    {
     "data": {
      "text/html": [
       "<div>\n",
       "<style scoped>\n",
       "    .dataframe tbody tr th:only-of-type {\n",
       "        vertical-align: middle;\n",
       "    }\n",
       "\n",
       "    .dataframe tbody tr th {\n",
       "        vertical-align: top;\n",
       "    }\n",
       "\n",
       "    .dataframe thead th {\n",
       "        text-align: right;\n",
       "    }\n",
       "</style>\n",
       "<table border=\"1\" class=\"dataframe\">\n",
       "  <thead>\n",
       "    <tr style=\"text-align: right;\">\n",
       "      <th></th>\n",
       "      <th>listing_id</th>\n",
       "      <th>comments</th>\n",
       "      <th>neighbourhood</th>\n",
       "      <th>polarity_score</th>\n",
       "    </tr>\n",
       "  </thead>\n",
       "  <tbody>\n",
       "    <tr>\n",
       "      <th>32787</th>\n",
       "      <td>5805162</td>\n",
       "      <td>Die Ankunft war unkompliziert. Die Lage ist ru...</td>\n",
       "      <td>Ravenna</td>\n",
       "      <td>-0.9881</td>\n",
       "    </tr>\n",
       "    <tr>\n",
       "      <th>14908</th>\n",
       "      <td>685600</td>\n",
       "      <td>Das Zimmer war wie beschrieben und die Umgebun...</td>\n",
       "      <td>Lawton Park</td>\n",
       "      <td>-0.9885</td>\n",
       "    </tr>\n",
       "    <tr>\n",
       "      <th>1786</th>\n",
       "      <td>208356</td>\n",
       "      <td>Die Unterkunft ist so wie beschrieben und die ...</td>\n",
       "      <td>International District</td>\n",
       "      <td>-0.9892</td>\n",
       "    </tr>\n",
       "    <tr>\n",
       "      <th>22483</th>\n",
       "      <td>6115704</td>\n",
       "      <td>Beautiful Condo - Beware : NO AC!\\nWe stayed a...</td>\n",
       "      <td>Central Business District</td>\n",
       "      <td>-0.9908</td>\n",
       "    </tr>\n",
       "    <tr>\n",
       "      <th>18347</th>\n",
       "      <td>26116</td>\n",
       "      <td>Für den Aufenthalt in einer fremdem Stadt hatt...</td>\n",
       "      <td>Broadway</td>\n",
       "      <td>-0.9927</td>\n",
       "    </tr>\n",
       "    <tr>\n",
       "      <th>75564</th>\n",
       "      <td>1775016</td>\n",
       "      <td>Staying at Robert’s place was a nightmare. At ...</td>\n",
       "      <td>Broadway</td>\n",
       "      <td>-0.9941</td>\n",
       "    </tr>\n",
       "    <tr>\n",
       "      <th>32404</th>\n",
       "      <td>3291777</td>\n",
       "      <td>Melissa replied to our request and approved bu...</td>\n",
       "      <td>University District</td>\n",
       "      <td>-0.9956</td>\n",
       "    </tr>\n",
       "    <tr>\n",
       "      <th>84378</th>\n",
       "      <td>4577542</td>\n",
       "      <td>Die Unterkunft war sehr schön und genau so, wi...</td>\n",
       "      <td>Minor</td>\n",
       "      <td>-0.9961</td>\n",
       "    </tr>\n",
       "    <tr>\n",
       "      <th>29434</th>\n",
       "      <td>1018204</td>\n",
       "      <td>leider war esnicht so fein, da die unterkunft ...</td>\n",
       "      <td>Minor</td>\n",
       "      <td>-0.9970</td>\n",
       "    </tr>\n",
       "    <tr>\n",
       "      <th>50261</th>\n",
       "      <td>258571</td>\n",
       "      <td>Wir sind 5 Nächte geblieben. Und es ist eine A...</td>\n",
       "      <td>Broadway</td>\n",
       "      <td>-0.9975</td>\n",
       "    </tr>\n",
       "  </tbody>\n",
       "</table>\n",
       "</div>"
      ],
      "text/plain": [
       "       listing_id                                           comments  \\\n",
       "32787     5805162  Die Ankunft war unkompliziert. Die Lage ist ru...   \n",
       "14908      685600  Das Zimmer war wie beschrieben und die Umgebun...   \n",
       "1786       208356  Die Unterkunft ist so wie beschrieben und die ...   \n",
       "22483     6115704  Beautiful Condo - Beware : NO AC!\\nWe stayed a...   \n",
       "18347       26116  Für den Aufenthalt in einer fremdem Stadt hatt...   \n",
       "75564     1775016  Staying at Robert’s place was a nightmare. At ...   \n",
       "32404     3291777  Melissa replied to our request and approved bu...   \n",
       "84378     4577542  Die Unterkunft war sehr schön und genau so, wi...   \n",
       "29434     1018204  leider war esnicht so fein, da die unterkunft ...   \n",
       "50261      258571  Wir sind 5 Nächte geblieben. Und es ist eine A...   \n",
       "\n",
       "                   neighbourhood  polarity_score  \n",
       "32787                    Ravenna         -0.9881  \n",
       "14908                Lawton Park         -0.9885  \n",
       "1786      International District         -0.9892  \n",
       "22483  Central Business District         -0.9908  \n",
       "18347                   Broadway         -0.9927  \n",
       "75564                   Broadway         -0.9941  \n",
       "32404        University District         -0.9956  \n",
       "84378                      Minor         -0.9961  \n",
       "29434                      Minor         -0.9970  \n",
       "50261                   Broadway         -0.9975  "
      ]
     },
     "execution_count": 34,
     "metadata": {},
     "output_type": "execute_result"
    }
   ],
   "source": [
    "# Investigate the worst reviews\n",
    "df_comments.sort_values(by='polarity_score',ascending=False).tail(10)"
   ]
  },
  {
   "cell_type": "markdown",
   "metadata": {},
   "source": [
    "#### FINDINGS\n",
    "\n",
    "It's worth noting that the majority of the reviews with low polarity ratings appear to be written in a language other than English!. Maybe the Sentiment Intensity Analyzer has this limitation.  \n",
    "\n",
    "The other three reviews appear to be genuine complaints, with users lamenting the lack of A/C and fans, the host's rudeness, construction noise disrupting people's stay, and the place's terrible state, among other things. "
   ]
  },
  {
   "cell_type": "markdown",
   "metadata": {},
   "source": [
    "### 4. DATA PREPARATION\n",
    "\n",
    "#### Price Prediction\n",
    "Can we forecast a listing's price?\n",
    "What aspects of the listing have the best correlation with price prediction?\n",
    "\n"
   ]
  },
  {
   "cell_type": "markdown",
   "metadata": {},
   "source": [
    "#### Section 4.1 Handling non impacting columns"
   ]
  },
  {
   "cell_type": "code",
   "execution_count": 35,
   "metadata": {},
   "outputs": [
    {
     "data": {
      "text/plain": [
       "0"
      ]
     },
     "execution_count": 35,
     "metadata": {},
     "output_type": "execute_result"
    }
   ],
   "source": [
    "# Examine for missing values in price; if so, such records should be deleted from the dataset. \n",
    "df_listings['price'].isnull().sum()"
   ]
  },
  {
   "cell_type": "code",
   "execution_count": 36,
   "metadata": {},
   "outputs": [
    {
     "data": {
      "text/plain": [
       "(3818, 92)"
      ]
     },
     "execution_count": 36,
     "metadata": {},
     "output_type": "execute_result"
    }
   ],
   "source": [
    "df_listings.shape"
   ]
  },
  {
   "cell_type": "code",
   "execution_count": 37,
   "metadata": {},
   "outputs": [
    {
     "data": {
      "text/plain": [
       "(3818, 65)"
      ]
     },
     "execution_count": 37,
     "metadata": {},
     "output_type": "execute_result"
    }
   ],
   "source": [
    "# Remove columns that aren't likely to affect the pricing. \n",
    "df_list = df_listings.copy()\n",
    "cols_less_impact = ['id','listing_url','scrape_id','last_scraped','thumbnail_url','medium_url','xl_picture_url',\n",
    "                    'host_id','host_url','host_thumbnail_url','host_verifications','street','neighbourhood',\n",
    "                    'neighbourhood_group_cleansed','zipcode','smart_location','country','latitude','longitude',\n",
    "                    'weekly_price','monthly_price','calendar_updated','calendar_last_scraped','first_review',\n",
    "                    'last_review','calculated_host_listings_count','reviews_per_month']\n",
    "df_list = df_list.drop(cols_less_impact, axis=1)\n",
    "df_list.shape"
   ]
  },
  {
   "cell_type": "markdown",
   "metadata": {},
   "source": [
    "#### FINDINGS\n",
    "\n",
    "Price information is accessible for all records in the listings dataset. \n",
    "\n",
    "Some columns appear to have less of an impact on price based on the field definitions, therefore we'll delete them from the dataset to collaborate with a cleaner and smaller dataset.\n",
    "The following are the most common reasons for removing these columns: \n",
    "- ID field or meta data related to the listing\n",
    "- Other columns that contain the same or similar data (eg: using country code and removing country) \n",
    "- Deleting some variables like street, zipcode, latitude, longitude, and so on, and retaining the analysis at the city level  \n",
    "\n",
    "The columns we will be removing are:\n",
    "id,listing_url,scrape_id,last_scraped,thumbnail_url,medium_url,xl_picture_url,host_id,\n",
    "host_url,host_thumbnail_url,host_verifications,street,neighbourhood,neighbourhood_group_cleansed,zipcode,smart_location,country,latitude,longitude,weekly_price,monthly_price,calendar_updated,calendar_last_scraped,first_review,last_review,\n",
    "calculated_host_listings_count,reviews_per_month"
   ]
  },
  {
   "cell_type": "code",
   "execution_count": 38,
   "metadata": {},
   "outputs": [
    {
     "data": {
      "text/plain": [
       "['license']"
      ]
     },
     "execution_count": 38,
     "metadata": {},
     "output_type": "execute_result"
    }
   ],
   "source": [
    "# If there are any missing values, look for them in the columns.  \n",
    "df_list.columns[df_list.isnull().all()].tolist()"
   ]
  },
  {
   "cell_type": "code",
   "execution_count": 39,
   "metadata": {},
   "outputs": [
    {
     "data": {
      "text/plain": [
       "(3818, 64)"
      ]
     },
     "execution_count": 39,
     "metadata": {},
     "output_type": "execute_result"
    }
   ],
   "source": [
    "# Delete license column\n",
    "df_list = df_list.drop('license', axis=1)\n",
    "df_list.shape"
   ]
  },
  {
   "cell_type": "markdown",
   "metadata": {},
   "source": [
    "#### Section 4.2 Handling missing values in Integer and Float columns"
   ]
  },
  {
   "cell_type": "code",
   "execution_count": 40,
   "metadata": {},
   "outputs": [
    {
     "name": "stdout",
     "output_type": "stream",
     "text": [
      "host_listings_count 2\n",
      "host_total_listings_count 2\n",
      "bathrooms 16\n",
      "bedrooms 6\n",
      "beds 1\n",
      "square_feet 3721\n",
      "price 0\n",
      "review_scores_rating 647\n",
      "review_scores_accuracy 658\n",
      "review_scores_cleanliness 653\n",
      "review_scores_checkin 658\n",
      "review_scores_communication 651\n",
      "review_scores_location 655\n",
      "review_scores_value 656\n"
     ]
    }
   ],
   "source": [
    "# Examine all of the numerical columns and assess missing values\n",
    "num_cols = df_list.select_dtypes(include=['float', 'int']).columns\n",
    "for col in num_cols:\n",
    "    print(col,df_list[col].isnull().sum())"
   ]
  },
  {
   "cell_type": "markdown",
   "metadata": {},
   "source": [
    "#### FINDINGS\n",
    "\n",
    "bathrooms - There are 16 rows with Nan for bathrooms. Since it's a small percentage of rows, I have decided to set bathrooms to 0 for Nan values\n",
    "\n",
    "bedrooms - Looking at the dataset, since all the rows with blank bedroom field have beds value of at least 1, I will use 1 for bedrooms where bedrooms is Nan\n",
    "\n",
    "beds - For the 1 record that have beds as Nan, bed_type is specified as Real Bed, so I will set beds to 1 for this case\n",
    "\n",
    "square_feet - Since a good percentage of this field is Nan, I am going to drop this column\n",
    "\n",
    "review_scores columns - Since these are review related scores, I will be setting all Nan values to 0 assuming no review scores for these listings.\n",
    "\n",
    "host_listings_count and host_total_listings_count - There are only 2 rows with no values. Looking at the data, I determined that these host IDs only have 1 record associated with them each, so I decided to populate with 1."
   ]
  },
  {
   "cell_type": "code",
   "execution_count": 41,
   "metadata": {},
   "outputs": [],
   "source": [
    "# Set 0 for bathroom where bathroom is Nan\n",
    "df_list['bathrooms'] = df_list['bathrooms'].fillna(0)\n",
    "\n",
    "# Set 1 for bedrooms where bedrooms is Nan\n",
    "df_list['bedrooms'] = df_list['bedrooms'].fillna(1)\n",
    "\n",
    "# Set 1 for beds where beds is Nan\n",
    "df_list['beds'] = df_list['beds'].fillna(1)\n",
    "\n",
    "# Delete square_feet column\n",
    "df_list = df_list.drop('square_feet',axis=1)\n",
    "\n",
    "# Set all review scores columns with 0 for Nan values\n",
    "cols_fillna_0 = ['review_scores_rating','review_scores_accuracy','review_scores_cleanliness',\n",
    "                 'review_scores_checkin','review_scores_communication','review_scores_location','review_scores_value']\n",
    "for col in cols_fillna_0:\n",
    "    df_list[col] = df_list[col].fillna(0)\n",
    "\n",
    "# Set host_listings_count and host_total_listings_count to 1\n",
    "df_list['host_listings_count'] = df_list['host_listings_count'].fillna(1)\n",
    "df_list['host_total_listings_count'] = df_list['host_total_listings_count'].fillna(1)"
   ]
  },
  {
   "cell_type": "code",
   "execution_count": 42,
   "metadata": {},
   "outputs": [
    {
     "name": "stdout",
     "output_type": "stream",
     "text": [
      "host_listings_count 0\n",
      "host_total_listings_count 0\n",
      "bathrooms 0\n",
      "bedrooms 0\n",
      "beds 0\n",
      "price 0\n",
      "review_scores_rating 0\n",
      "review_scores_accuracy 0\n",
      "review_scores_cleanliness 0\n",
      "review_scores_checkin 0\n",
      "review_scores_communication 0\n",
      "review_scores_location 0\n",
      "review_scores_value 0\n"
     ]
    }
   ],
   "source": [
    "# Verify all of the numerical columns once more.\n",
    "num_cols = df_list.select_dtypes(include=['float', 'int']).columns\n",
    "for col in num_cols:\n",
    "    print(col,df_list[col].isnull().sum())"
   ]
  },
  {
   "cell_type": "markdown",
   "metadata": {},
   "source": [
    "#### Section 4.3 Handling missing values in objects columns"
   ]
  },
  {
   "cell_type": "code",
   "execution_count": 43,
   "metadata": {},
   "outputs": [
    {
     "name": "stdout",
     "output_type": "stream",
     "text": [
      "name 0\n",
      "summary 177\n",
      "space 569\n",
      "description 0\n",
      "experiences_offered 0\n",
      "neighborhood_overview 1032\n",
      "notes 1606\n",
      "transit 934\n",
      "picture_url 0\n",
      "host_name 2\n",
      "host_since 2\n",
      "host_location 8\n",
      "host_about 859\n",
      "host_response_time 523\n",
      "host_response_rate 523\n",
      "host_acceptance_rate 773\n",
      "host_is_superhost 2\n",
      "host_picture_url 2\n",
      "host_neighbourhood 300\n",
      "host_has_profile_pic 2\n",
      "host_identity_verified 2\n",
      "neighbourhood_cleansed 0\n",
      "city 0\n",
      "state 0\n",
      "market 0\n",
      "country_code 0\n",
      "is_location_exact 0\n",
      "property_type 1\n",
      "room_type 0\n",
      "bed_type 0\n",
      "amenities 0\n",
      "security_deposit 1952\n",
      "cleaning_fee 1030\n",
      "extra_people 0\n",
      "has_availability 0\n",
      "requires_license 0\n",
      "jurisdiction_names 0\n",
      "instant_bookable 0\n",
      "cancellation_policy 0\n",
      "require_guest_profile_picture 0\n",
      "require_guest_phone_verification 0\n"
     ]
    }
   ],
   "source": [
    "# Examine all of the categorical columns for missing values.\n",
    "cat_cols = df_list.select_dtypes(include=['object']).columns\n",
    "for col in cat_cols:\n",
    "        print(col,df_list[col].isnull().sum())"
   ]
  },
  {
   "cell_type": "markdown",
   "metadata": {},
   "source": [
    "#### FINDINGS\n",
    "\n",
    "summary, space, neighborhood_overview, notes, transit - Since these are all text fields describing the property in some way, I have decided to convert these fields into boolean fields to indicate if a value exists. I am doing so that I can consider listings that have descriptive information available like summary and transit towards price prediction.\n",
    "\n",
    "host_name, host_since, host_location, host_about, host_picture_url, host_neighbourhood - Since these are all fields that are descriptive about the host, I am going to convert these fields into boolean fields as well to indicate if a value exists or not.\n",
    "\n",
    "host_response_time, host_acceptance_rate - These fields seems to have N/A as a valid value, so I will assign N/A where Nan values exist.\n",
    "\n",
    "host_response_rate - Looking at the data, since this is a percentage value and the range is quite distributed, I will be converting this to float and setting N/A and blanks to 0.\n",
    "\n",
    "host_is_superhost, host_has_profile_pic, host_identity_verified - These are boolean fields with t or f values. Assign 1 for t, 0 for f and assign Nans with 0\n",
    "\n",
    "property_type - Since this is just 1 record, we will just drop this record\n",
    "\n",
    "security_deposit - We will assume a 0 security deposit for where it is not specified. We will also remove $ signs and convert to float\n",
    "\n",
    "cleaning_fee - We will assume a 0 cleaning_fee where it is not specified. We will also remove $ signs and convert to float\n",
    "\n",
    "The following fields do not have missing values, but it is important to cleanse these as well.\n",
    "\n",
    "name, description, picture_url - Since these are all text fields as well, I have decided to convert these fields into boolean fields to indicate if a value exists. I am doing so that I can consider listings that have descriptive information available like description and picture_url towards price prediction.\n",
    "\n",
    "experiences_offered - all values in this column is 'None' and it doesn't add any value, so we will be dropping this column\n",
    "\n",
    "market - all values are 'Seattle' in this column, since we have other descriptors for Seattle, we will be dropping this column\n",
    "\n",
    "is_location_exact, has_availability, requires_license, instant_bookable, require_guest_profile_picture, require_guest_phone_verification - these fields have t/f values, will convert to 1/0.\n",
    "\n",
    "extra_people - Need to remove $ sign and convert to float\n",
    "\n",
    "jurisdiction_names - All values are 'WASHINGTON', doesn't add much value, will be dropping this column\n",
    "\n",
    "city - There are some inconsistencies in this field where we have several values for Seattle, for example: \"Seattle\", \"Seattle \" (with a space at the end) and \"seattle\". We will convert all city names to lower case and trim spaces in order to standardize.\n",
    "\n",
    "state - There are both \"WA\" and \"wa\" values for state. We will be converting all state names to lowercase in order to standardize.\n",
    "\n",
    "amenities - this field contains a list of values in each row, we will need to figure out how to handle this column"
   ]
  },
  {
   "cell_type": "code",
   "execution_count": 44,
   "metadata": {},
   "outputs": [],
   "source": [
    "# Function to set all text fields to boolean\n",
    "\n",
    "def text_to_boolean(text_data):\n",
    "    '''\n",
    "    Function to set all discriptive fields into boolean\n",
    "    INPUT\n",
    "    Columns that contain descriptive information about property.\n",
    "    OUTPUT\n",
    "    Return 0 if no text available else return 1\n",
    "    '''\n",
    "    if not text_data:\n",
    "        return 0\n",
    "    else:\n",
    "        return 1\n",
    "    \n",
    "text_col = ['summary','space','neighborhood_overview','notes','transit','name','description',\n",
    "                    'picture_url','host_name','host_since','host_location','host_about','host_picture_url','host_neighbourhood']\n",
    "for t in text_col:\n",
    "    df_list[t]= df_list[t].apply(text_to_boolean)\n"
   ]
  },
  {
   "cell_type": "code",
   "execution_count": 45,
   "metadata": {},
   "outputs": [],
   "source": [
    "# Function to set all t/f fields to 1/0\n",
    "def tf_to_boolean(tf_data):\n",
    "    '''\n",
    "    Function to set all True and False fields into boolean\n",
    "    INPUT\n",
    "    Columns that contain that true or false statement.\n",
    "    OUTPUT\n",
    "    Return 1 if true else return 0 if False\n",
    "    '''\n",
    "    if tf_data== 't':\n",
    "        return 1\n",
    "    else:\n",
    "        return 0\n",
    "    \n",
    "tf_col =['host_is_superhost','host_has_profile_pic','host_identity_verified','is_location_exact',\n",
    "         'has_availability','requires_license','instant_bookable','require_guest_profile_picture',\n",
    "         'require_guest_phone_verification']\n",
    "\n",
    "for d in tf_col:\n",
    "    df_list[d]= df_list[d].apply(tf_to_boolean)"
   ]
  },
  {
   "cell_type": "code",
   "execution_count": 46,
   "metadata": {},
   "outputs": [],
   "source": [
    "# Assign N/A to applicable host fields\n",
    "df_list['host_response_time']= df_list['host_response_time'].fillna('N/A')\n",
    "df_list['host_acceptance_rate']= df_list['host_acceptance_rate'].fillna('N/A')\n",
    "\n",
    "df_list['host_response_rate']= df_list['host_response_rate'].apply(lambda x: 0 if x== 'N/A' else x)\n",
    "df_list['host_response_rate']= df_list['host_response_rate'].replace('[\\%,]', '', regex= True).astype(float)\n",
    "df_list['host_response_rate']= df_list['host_response_rate'].fillna(0)\n",
    "\n",
    "# Delete record with empty value for property_type\n",
    "df_list= df_list.dropna(subset= ['property_type'], axis=0)\n",
    "\n",
    "# Clean security_deposit, cleaning_fee and extra people\n",
    "df_list['security_deposit'] = df_list['security_deposit'].replace('[\\$,]', '', regex=True).astype(float)\n",
    "df_list['cleaning_fee'] = df_list['cleaning_fee'].replace('[\\$,]', '', regex=True).astype(float)\n",
    "df_list['extra_people'] = df_list['extra_people'].replace('[\\$,]', '', regex=True).astype(float)\n",
    "df_list['security_deposit'] = df_list['security_deposit'].fillna(0)\n",
    "df_list['cleaning_fee'] = df_list['cleaning_fee'].fillna(0)\n",
    "\n",
    "# Delete columns experiences_offered, market and jurisdiction_name\n",
    "df_list= df_list.drop(['experiences_offered','market','jurisdiction_names',], axis = 1)\n",
    "\n",
    "# Clean up city names\n",
    "df_list['city']= df_list['city'].str.lower()\n",
    "df_list['city']= df_list['city'].str.strip()\n",
    "df_list['state']= df_list['state'].str.lower()"
   ]
  },
  {
   "cell_type": "code",
   "execution_count": 47,
   "metadata": {},
   "outputs": [
    {
     "name": "stdout",
     "output_type": "stream",
     "text": [
      "host_response_time 0\n",
      "host_acceptance_rate 0\n",
      "neighbourhood_cleansed 0\n",
      "city 0\n",
      "state 0\n",
      "country_code 0\n",
      "property_type 0\n",
      "room_type 0\n",
      "bed_type 0\n",
      "amenities 0\n",
      "cancellation_policy 0\n"
     ]
    }
   ],
   "source": [
    "# Check to see if all missing values have been filled in\n",
    "cat_cols = df_list.select_dtypes(include=['object']).columns\n",
    "for col in cat_cols:\n",
    "        print(col,df_list[col].isnull().sum())"
   ]
  },
  {
   "cell_type": "markdown",
   "metadata": {},
   "source": [
    "#### Section 4.4 Handling Amenities  column\n",
    "\n",
    "In order to handle the amenities column, we will try to understand which are some of the most common amenities that are present within the listings. Once we know which amenities are important, we will create additional columns to represent each amenity as a boolean field."
   ]
  },
  {
   "cell_type": "code",
   "execution_count": 48,
   "metadata": {},
   "outputs": [
    {
     "data": {
      "text/plain": [
       "[('Wireless Internet', 3666),\n",
       " ('Heating', 3626),\n",
       " ('Kitchen', 3422),\n",
       " ('Smoke Detector', 3280),\n",
       " ('Essentials', 3237),\n",
       " ('Dryer', 2996),\n",
       " ('Washer', 2991),\n",
       " ('Internet', 2811),\n",
       " ('Shampoo', 2670),\n",
       " ('TV', 2574),\n",
       " ('Carbon Monoxide Detector', 2485),\n",
       " ('Fire Extinguisher', 2196),\n",
       " ('Free Parking on Premises', 2166),\n",
       " ('Family/Kid Friendly', 1962),\n",
       " ('First Aid Kit', 1679),\n",
       " ('Cable TV', 1446),\n",
       " ('Indoor Fireplace', 885),\n",
       " ('Pets live on this property', 882),\n",
       " ('Hangers', 846),\n",
       " ('Elevator in Building', 785),\n",
       " ('Hair Dryer', 774),\n",
       " ('Laptop Friendly Workspace', 745),\n",
       " ('Iron', 742),\n",
       " ('Safety Card', 727),\n",
       " ('Air Conditioning', 677),\n",
       " ('24-Hour Check-in', 616),\n",
       " ('Buzzer/Wireless Intercom', 538),\n",
       " ('Dog(s)', 508),\n",
       " ('Pets Allowed', 472),\n",
       " ('Gym', 442),\n",
       " ('Cat(s)', 382),\n",
       " ('Hot Tub', 303),\n",
       " ('Wheelchair Accessible', 300),\n",
       " ('Breakfast', 291),\n",
       " ('Suitable for Events', 209),\n",
       " ('Pool', 159),\n",
       " ('Lock on Bedroom Door', 100),\n",
       " ('Doorman', 85),\n",
       " ('Smoking Allowed', 82),\n",
       " ('Other pet(s)', 50),\n",
       " ('', 45),\n",
       " ('Washer / Dryer', 2)]"
      ]
     },
     "execution_count": 48,
     "metadata": {},
     "output_type": "execute_result"
    }
   ],
   "source": [
    "# Handle amenities - Investigate most common amenities\n",
    "amenities = []\n",
    "for index, row in df_list.iterrows():\n",
    "    row['amenities']= row['amenities'].replace('{', '')\n",
    "    row['amenities']=row['amenities'].replace('}', '')\n",
    "    row['amenities']=row['amenities'].replace('\"', '')\n",
    "    my_list= row['amenities'].split(',')\n",
    "    for n in my_list:\n",
    "        amenities.append(n)\n",
    "\n",
    "amenities_count= Counter(amenities)\n",
    "amenities_count.most_common()  "
   ]
  },
  {
   "cell_type": "markdown",
   "metadata": {},
   "source": [
    "#### FINDINGS\n",
    "\n",
    "Based on the above, I chose the amenities that show more than 2000 times (about 52 percent of the total dataset), which are listed below.\n",
    "\n",
    "('Wireless Internet', 3666),\n",
    " ('Heating', 3626),\n",
    " ('Kitchen', 3422),\n",
    " ('Smoke Detector', 3280),\n",
    " ('Essentials', 3237),\n",
    " ('Dryer', 2996),\n",
    " ('Washer', 2991),\n",
    " ('Internet', 2811),\n",
    " ('Shampoo', 2670),\n",
    " ('TV', 2574),\n",
    " ('Carbon Monoxide Detector', 2485),\n",
    " ('Fire Extinguisher', 2196),\n",
    " ('Free Parking on Premises', 2166),"
   ]
  },
  {
   "cell_type": "code",
   "execution_count": 49,
   "metadata": {},
   "outputs": [],
   "source": [
    "amenities_new_cols =['amenities_wireless_internet|Wireless Internet','amenities_heating|Heating',\n",
    "                     'amenities_kitchen|Kitchen','amenities_smoke_detector|Smoke Detector',\n",
    "                     'amenities_essentials|Essentials','amenities_dryer|Dryer','amenities_washer|Washer',\n",
    "                     'amenities_internet|Internet','amenities_shampoo|Shampoo','amenities_tv|TV',\n",
    "                     'amenities_carbon_monoxide_detector|Carbon Monoxide Detector',\n",
    "                     'amenities_fire_extinguisher|Fire Extinguisher','amenities_free_parking|Free Parking on Premises']\n",
    "\n",
    "for c in amenities_new_cols:\n",
    "    c_col, c_desc= c.split('|')\n",
    "    df_list[c_col]= df_list['amenities'].apply(lambda x: 1 if c_desc in x else 0)"
   ]
  },
  {
   "cell_type": "code",
   "execution_count": 50,
   "metadata": {},
   "outputs": [],
   "source": [
    "# Delete the original amenities field\n",
    "df_list = df_list.drop('amenities', axis = 1)\n"
   ]
  },
  {
   "cell_type": "code",
   "execution_count": 51,
   "metadata": {},
   "outputs": [
    {
     "data": {
      "text/plain": [
       "(3817, 72)"
      ]
     },
     "execution_count": 51,
     "metadata": {},
     "output_type": "execute_result"
    }
   ],
   "source": [
    "# Show The structure of the data - Columns and Rows\n",
    "df_list.shape"
   ]
  },
  {
   "cell_type": "code",
   "execution_count": 52,
   "metadata": {},
   "outputs": [
    {
     "data": {
      "text/plain": [
       "Index(['host_response_time', 'host_acceptance_rate', 'neighbourhood_cleansed',\n",
       "       'city', 'state', 'country_code', 'property_type', 'room_type',\n",
       "       'bed_type', 'cancellation_policy'],\n",
       "      dtype='object')"
      ]
     },
     "execution_count": 52,
     "metadata": {},
     "output_type": "execute_result"
    }
   ],
   "source": [
    "# Examine the remaining column of objects.\n",
    "df_list.select_dtypes(include=['object']).columns"
   ]
  },
  {
   "cell_type": "markdown",
   "metadata": {},
   "source": [
    "#### Section 4.5 Creating Dummy Columns\n",
    "\n",
    "To deal with categorical variables, we need to add dummy columns; otherwise, our model will fail if all of the values are not in numbers. We're deleting the original columns and replacing them with fake columns of the categorical variable with prefix column names."
   ]
  },
  {
   "cell_type": "code",
   "execution_count": 53,
   "metadata": {
    "scrolled": true
   },
   "outputs": [
    {
     "data": {
      "text/html": [
       "<div>\n",
       "<style scoped>\n",
       "    .dataframe tbody tr th:only-of-type {\n",
       "        vertical-align: middle;\n",
       "    }\n",
       "\n",
       "    .dataframe tbody tr th {\n",
       "        vertical-align: top;\n",
       "    }\n",
       "\n",
       "    .dataframe thead th {\n",
       "        text-align: right;\n",
       "    }\n",
       "</style>\n",
       "<table border=\"1\" class=\"dataframe\">\n",
       "  <thead>\n",
       "    <tr style=\"text-align: right;\">\n",
       "      <th></th>\n",
       "      <th>name</th>\n",
       "      <th>summary</th>\n",
       "      <th>space</th>\n",
       "      <th>description</th>\n",
       "      <th>neighborhood_overview</th>\n",
       "      <th>notes</th>\n",
       "      <th>transit</th>\n",
       "      <th>picture_url</th>\n",
       "      <th>host_name</th>\n",
       "      <th>host_since</th>\n",
       "      <th>...</th>\n",
       "      <th>room_type_Private room</th>\n",
       "      <th>room_type_Shared room</th>\n",
       "      <th>bed_type_Airbed</th>\n",
       "      <th>bed_type_Couch</th>\n",
       "      <th>bed_type_Futon</th>\n",
       "      <th>bed_type_Pull-out Sofa</th>\n",
       "      <th>bed_type_Real Bed</th>\n",
       "      <th>cancellation_policy_flexible</th>\n",
       "      <th>cancellation_policy_moderate</th>\n",
       "      <th>cancellation_policy_strict</th>\n",
       "    </tr>\n",
       "  </thead>\n",
       "  <tbody>\n",
       "    <tr>\n",
       "      <th>0</th>\n",
       "      <td>1</td>\n",
       "      <td>1</td>\n",
       "      <td>1</td>\n",
       "      <td>1</td>\n",
       "      <td>1</td>\n",
       "      <td>1</td>\n",
       "      <td>1</td>\n",
       "      <td>1</td>\n",
       "      <td>1</td>\n",
       "      <td>1</td>\n",
       "      <td>...</td>\n",
       "      <td>0</td>\n",
       "      <td>0</td>\n",
       "      <td>0</td>\n",
       "      <td>0</td>\n",
       "      <td>0</td>\n",
       "      <td>0</td>\n",
       "      <td>1</td>\n",
       "      <td>0</td>\n",
       "      <td>1</td>\n",
       "      <td>0</td>\n",
       "    </tr>\n",
       "    <tr>\n",
       "      <th>1</th>\n",
       "      <td>1</td>\n",
       "      <td>1</td>\n",
       "      <td>1</td>\n",
       "      <td>1</td>\n",
       "      <td>1</td>\n",
       "      <td>1</td>\n",
       "      <td>1</td>\n",
       "      <td>1</td>\n",
       "      <td>1</td>\n",
       "      <td>1</td>\n",
       "      <td>...</td>\n",
       "      <td>0</td>\n",
       "      <td>0</td>\n",
       "      <td>0</td>\n",
       "      <td>0</td>\n",
       "      <td>0</td>\n",
       "      <td>0</td>\n",
       "      <td>1</td>\n",
       "      <td>0</td>\n",
       "      <td>0</td>\n",
       "      <td>1</td>\n",
       "    </tr>\n",
       "    <tr>\n",
       "      <th>2</th>\n",
       "      <td>1</td>\n",
       "      <td>1</td>\n",
       "      <td>1</td>\n",
       "      <td>1</td>\n",
       "      <td>1</td>\n",
       "      <td>1</td>\n",
       "      <td>1</td>\n",
       "      <td>1</td>\n",
       "      <td>1</td>\n",
       "      <td>1</td>\n",
       "      <td>...</td>\n",
       "      <td>0</td>\n",
       "      <td>0</td>\n",
       "      <td>0</td>\n",
       "      <td>0</td>\n",
       "      <td>0</td>\n",
       "      <td>0</td>\n",
       "      <td>1</td>\n",
       "      <td>0</td>\n",
       "      <td>0</td>\n",
       "      <td>1</td>\n",
       "    </tr>\n",
       "    <tr>\n",
       "      <th>3</th>\n",
       "      <td>1</td>\n",
       "      <td>1</td>\n",
       "      <td>1</td>\n",
       "      <td>1</td>\n",
       "      <td>1</td>\n",
       "      <td>1</td>\n",
       "      <td>1</td>\n",
       "      <td>1</td>\n",
       "      <td>1</td>\n",
       "      <td>1</td>\n",
       "      <td>...</td>\n",
       "      <td>0</td>\n",
       "      <td>0</td>\n",
       "      <td>0</td>\n",
       "      <td>0</td>\n",
       "      <td>0</td>\n",
       "      <td>0</td>\n",
       "      <td>1</td>\n",
       "      <td>1</td>\n",
       "      <td>0</td>\n",
       "      <td>0</td>\n",
       "    </tr>\n",
       "    <tr>\n",
       "      <th>4</th>\n",
       "      <td>1</td>\n",
       "      <td>1</td>\n",
       "      <td>1</td>\n",
       "      <td>1</td>\n",
       "      <td>1</td>\n",
       "      <td>1</td>\n",
       "      <td>1</td>\n",
       "      <td>1</td>\n",
       "      <td>1</td>\n",
       "      <td>1</td>\n",
       "      <td>...</td>\n",
       "      <td>0</td>\n",
       "      <td>0</td>\n",
       "      <td>0</td>\n",
       "      <td>0</td>\n",
       "      <td>0</td>\n",
       "      <td>0</td>\n",
       "      <td>1</td>\n",
       "      <td>0</td>\n",
       "      <td>0</td>\n",
       "      <td>1</td>\n",
       "    </tr>\n",
       "  </tbody>\n",
       "</table>\n",
       "<p>5 rows × 191 columns</p>\n",
       "</div>"
      ],
      "text/plain": [
       "   name  summary  space  description  neighborhood_overview  notes  transit  \\\n",
       "0     1        1      1            1                      1      1        1   \n",
       "1     1        1      1            1                      1      1        1   \n",
       "2     1        1      1            1                      1      1        1   \n",
       "3     1        1      1            1                      1      1        1   \n",
       "4     1        1      1            1                      1      1        1   \n",
       "\n",
       "   picture_url  host_name  host_since  ...  room_type_Private room  \\\n",
       "0            1          1           1  ...                       0   \n",
       "1            1          1           1  ...                       0   \n",
       "2            1          1           1  ...                       0   \n",
       "3            1          1           1  ...                       0   \n",
       "4            1          1           1  ...                       0   \n",
       "\n",
       "   room_type_Shared room  bed_type_Airbed  bed_type_Couch  bed_type_Futon  \\\n",
       "0                      0                0               0               0   \n",
       "1                      0                0               0               0   \n",
       "2                      0                0               0               0   \n",
       "3                      0                0               0               0   \n",
       "4                      0                0               0               0   \n",
       "\n",
       "   bed_type_Pull-out Sofa  bed_type_Real Bed  cancellation_policy_flexible  \\\n",
       "0                       0                  1                             0   \n",
       "1                       0                  1                             0   \n",
       "2                       0                  1                             0   \n",
       "3                       0                  1                             1   \n",
       "4                       0                  1                             0   \n",
       "\n",
       "   cancellation_policy_moderate  cancellation_policy_strict  \n",
       "0                             1                           0  \n",
       "1                             0                           1  \n",
       "2                             0                           1  \n",
       "3                             0                           0  \n",
       "4                             0                           1  \n",
       "\n",
       "[5 rows x 191 columns]"
      ]
     },
     "execution_count": 53,
     "metadata": {},
     "output_type": "execute_result"
    }
   ],
   "source": [
    "# Dummies for categorical fields are available.\n",
    "cat_fields = df_list.select_dtypes(include=['object']).columns\n",
    "\n",
    "df_list = pd.get_dummies(df_list, columns=cat_fields)\n",
    "df_list.head()"
   ]
  },
  {
   "cell_type": "code",
   "execution_count": 54,
   "metadata": {},
   "outputs": [
    {
     "data": {
      "text/plain": [
       "(3817, 191)"
      ]
     },
     "execution_count": 54,
     "metadata": {},
     "output_type": "execute_result"
    }
   ],
   "source": [
    "# Show The structure of the data - Columns and Rows\n",
    "df_list.shape"
   ]
  },
  {
   "cell_type": "markdown",
   "metadata": {},
   "source": [
    "####  Section 4.6 Splitting the data set into Independent variables and dependent variables"
   ]
  },
  {
   "cell_type": "code",
   "execution_count": 55,
   "metadata": {},
   "outputs": [],
   "source": [
    "# Build out X and y, y to be price column and X to be all the other columns\n",
    "X = df_list.drop(['price'], axis=1)\n",
    "y = df_list['price']"
   ]
  },
  {
   "cell_type": "code",
   "execution_count": 56,
   "metadata": {},
   "outputs": [
    {
     "data": {
      "text/plain": [
       "0     85.0\n",
       "1    150.0\n",
       "2    975.0\n",
       "3    100.0\n",
       "4    450.0\n",
       "Name: price, dtype: float64"
      ]
     },
     "execution_count": 56,
     "metadata": {},
     "output_type": "execute_result"
    }
   ],
   "source": [
    "y.head()"
   ]
  },
  {
   "cell_type": "markdown",
   "metadata": {},
   "source": [
    "### 5. MODELING"
   ]
  },
  {
   "cell_type": "markdown",
   "metadata": {},
   "source": [
    "Let's divide the data into two groups: training and testing. The sample size for this test is 0.30."
   ]
  },
  {
   "cell_type": "code",
   "execution_count": 57,
   "metadata": {},
   "outputs": [
    {
     "name": "stdout",
     "output_type": "stream",
     "text": [
      "(2671, 190) (2671,)\n",
      "(1146, 190) (1146,)\n"
     ]
    }
   ],
   "source": [
    "# Make data sets for training and testing\n",
    "X_train, X_test, y_train, y_test = train_test_split(X, y, test_size = .30, random_state=42) \n",
    "\n",
    "print(X_train.shape, y_train.shape)\n",
    "print(X_test.shape, y_test.shape)"
   ]
  },
  {
   "cell_type": "code",
   "execution_count": 58,
   "metadata": {},
   "outputs": [
    {
     "name": "stdout",
     "output_type": "stream",
     "text": [
      "The rsquared score on the training data was -1.490333843334653.  The rsquared score on the test data was -1.6594687179204817.\n"
     ]
    }
   ],
   "source": [
    "# Create a linear regression model and fits it to a set of training data.\n",
    "lm_model = LinearRegression(normalize=True) \n",
    "lm_model.fit(X_train, y_train) \n",
    "        \n",
    "# Predict and score the model\n",
    "y_train_preds = lm_model.predict(X_train)\n",
    "y_test_preds = lm_model.predict(X_test) \n",
    "train_score = r2_score(y_train, y_train_preds)\n",
    "test_score = r2_score(y_test,y_test_preds)\n",
    "print(\"The rsquared score on the training data was {}.  The rsquared score on the test data was {}.\".format(train_score, test_score))"
   ]
  },
  {
   "cell_type": "markdown",
   "metadata": {},
   "source": [
    "### 6. EVALUATION"
   ]
  },
  {
   "cell_type": "code",
   "execution_count": 59,
   "metadata": {},
   "outputs": [
    {
     "data": {
      "text/html": [
       "<div>\n",
       "<style scoped>\n",
       "    .dataframe tbody tr th:only-of-type {\n",
       "        vertical-align: middle;\n",
       "    }\n",
       "\n",
       "    .dataframe tbody tr th {\n",
       "        vertical-align: top;\n",
       "    }\n",
       "\n",
       "    .dataframe thead th {\n",
       "        text-align: right;\n",
       "    }\n",
       "</style>\n",
       "<table border=\"1\" class=\"dataframe\">\n",
       "  <thead>\n",
       "    <tr style=\"text-align: right;\">\n",
       "      <th></th>\n",
       "      <th>est_int</th>\n",
       "      <th>coefs</th>\n",
       "      <th>abs_coefs</th>\n",
       "    </tr>\n",
       "  </thead>\n",
       "  <tbody>\n",
       "    <tr>\n",
       "      <th>0</th>\n",
       "      <td>name</td>\n",
       "      <td>5.903814e+16</td>\n",
       "      <td>5.903814e+16</td>\n",
       "    </tr>\n",
       "    <tr>\n",
       "      <th>3</th>\n",
       "      <td>description</td>\n",
       "      <td>-3.900332e+16</td>\n",
       "      <td>3.900332e+16</td>\n",
       "    </tr>\n",
       "    <tr>\n",
       "      <th>2</th>\n",
       "      <td>space</td>\n",
       "      <td>3.304134e+16</td>\n",
       "      <td>3.304134e+16</td>\n",
       "    </tr>\n",
       "    <tr>\n",
       "      <th>1</th>\n",
       "      <td>summary</td>\n",
       "      <td>3.150218e+16</td>\n",
       "      <td>3.150218e+16</td>\n",
       "    </tr>\n",
       "    <tr>\n",
       "      <th>4</th>\n",
       "      <td>neighborhood_overview</td>\n",
       "      <td>-2.184314e+16</td>\n",
       "      <td>2.184314e+16</td>\n",
       "    </tr>\n",
       "    <tr>\n",
       "      <th>11</th>\n",
       "      <td>host_about</td>\n",
       "      <td>1.662711e+16</td>\n",
       "      <td>1.662711e+16</td>\n",
       "    </tr>\n",
       "    <tr>\n",
       "      <th>9</th>\n",
       "      <td>host_since</td>\n",
       "      <td>1.212284e+16</td>\n",
       "      <td>1.212284e+16</td>\n",
       "    </tr>\n",
       "    <tr>\n",
       "      <th>15</th>\n",
       "      <td>host_neighbourhood</td>\n",
       "      <td>1.036848e+16</td>\n",
       "      <td>1.036848e+16</td>\n",
       "    </tr>\n",
       "    <tr>\n",
       "      <th>8</th>\n",
       "      <td>host_name</td>\n",
       "      <td>-9.262064e+15</td>\n",
       "      <td>9.262064e+15</td>\n",
       "    </tr>\n",
       "    <tr>\n",
       "      <th>7</th>\n",
       "      <td>picture_url</td>\n",
       "      <td>-9.025306e+15</td>\n",
       "      <td>9.025306e+15</td>\n",
       "    </tr>\n",
       "  </tbody>\n",
       "</table>\n",
       "</div>"
      ],
      "text/plain": [
       "                  est_int         coefs     abs_coefs\n",
       "0                    name  5.903814e+16  5.903814e+16\n",
       "3             description -3.900332e+16  3.900332e+16\n",
       "2                   space  3.304134e+16  3.304134e+16\n",
       "1                 summary  3.150218e+16  3.150218e+16\n",
       "4   neighborhood_overview -2.184314e+16  2.184314e+16\n",
       "11             host_about  1.662711e+16  1.662711e+16\n",
       "9              host_since  1.212284e+16  1.212284e+16\n",
       "15     host_neighbourhood  1.036848e+16  1.036848e+16\n",
       "8               host_name -9.262064e+15  9.262064e+15\n",
       "7             picture_url -9.025306e+15  9.025306e+15"
      ]
     },
     "execution_count": 59,
     "metadata": {},
     "output_type": "execute_result"
    }
   ],
   "source": [
    "def coef_weights(coefficients, X_train):\n",
    "    '''\n",
    "    Function to get coefficients back for each of the features\n",
    "    INPUT:\n",
    "    coefficients - the coefficients of the linear model \n",
    "    X_train - the training data, so the column names can be used\n",
    "    OUTPUT:\n",
    "    coefs_df - a dataframe holding the coefficient, estimate, and abs(estimate)\n",
    "    \n",
    "    Provides a dataframe that can be used to understand the most influential coefficients\n",
    "    in a linear model by providing the coefficient estimates along with the name of the \n",
    "    variable attached to the coefficient.\n",
    "    '''\n",
    "    coefs_df = pd.DataFrame()\n",
    "    coefs_df['est_int'] = X_train.columns\n",
    "    coefs_df['coefs'] = lm_model.coef_\n",
    "    coefs_df['abs_coefs'] = np.abs(lm_model.coef_)\n",
    "    coefs_df = coefs_df.sort_values('abs_coefs', ascending=False)\n",
    "    return coefs_df\n",
    "\n",
    "# Apply the function\n",
    "coef_df = coef_weights(lm_model.coef_, X_train)\n",
    "\n",
    "# A short glance at the most important outcomes\n",
    "coef_df.head(10)"
   ]
  },
  {
   "cell_type": "markdown",
   "metadata": {},
   "source": [
    "#### FINDINGS\n",
    "\n",
    "After cleaning up  and data wrangling for the dataset, I was able to get an r2score of 0.62 on both training and test data sets. Based on the above coefficient analysis, the features that have the most impact on price are a combination of host details and descriptive information about the listing such as host_name, has_availability, transit, space, host_about, notes, neighborhood_overview etc. \n",
    "\n",
    "Of course, needless to say, these results may be impacted based on how the data was standardized and some of the choices made. "
   ]
  },
  {
   "cell_type": "code",
   "execution_count": null,
   "metadata": {},
   "outputs": [],
   "source": []
  }
 ],
 "metadata": {
  "kernelspec": {
   "display_name": "Python 3",
   "language": "python",
   "name": "python3"
  },
  "language_info": {
   "codemirror_mode": {
    "name": "ipython",
    "version": 3
   },
   "file_extension": ".py",
   "mimetype": "text/x-python",
   "name": "python",
   "nbconvert_exporter": "python",
   "pygments_lexer": "ipython3",
   "version": "3.8.5"
  }
 },
 "nbformat": 4,
 "nbformat_minor": 2
}
